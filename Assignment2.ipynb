{
 "cells": [
  {
   "cell_type": "markdown",
   "metadata": {},
   "source": [
    "# Formalia:\n",
    "\n",
    "Please read the [assignment overview page](https://github.com/SocialComplexityLab/socialgraphs2021/wiki/Assignments) carefully before proceeding. This page contains information about formatting (including formats etc.), group sizes, and many other aspects of handing in the assignment. \n",
    "\n",
    "_If you fail to follow these simple instructions, it will negatively impact your grade!_\n",
    "\n",
    "**Due date and time**: The assignment is due on Tuesday October the 31st, 2021 at 23:55. Hand in your IPython notebook file (with extension `.ipynb`) via http://peergrade.io/\n",
    "\n",
    "\n",
    "(If you haven't set up an account on peergrade yet, go to www.peergrade.io/join and type in the class code: ***DPZEV6***.)"
   ]
  },
  {
   "cell_type": "markdown",
   "metadata": {},
   "source": [
    "### Overview\n",
    "\n",
    "This year's Assignment 2 is all about analyzing the network of rappers.\n",
    "\n",
    "Note that this time I'm doing the exercises slightly differently in order to clean things up a bit. The issue is that the weekly lectures/exercises include quite a few instructions and intermediate results that are not quite something you guys can meaningfully answer. \n",
    "\n",
    "Therefore, in the assignment below, I have tried to reformulate the questions from the weekly exercises into something that is (hopefully) easier to answer. *Then I also note which lectures each question comes from*; that way, you can easily go back and find additional tips & tricks on how to solve things 😇\n",
    "\n",
    "\n",
    "----"
   ]
  },
  {
   "cell_type": "code",
   "execution_count": 60,
   "metadata": {},
   "outputs": [],
   "source": [
    "import pandas as pd\n",
    "import numpy as np\n",
    "import matplotlib.pyplot as plt\n",
    "import networkx as nx\n",
    "from nltk.tokenize import word_tokenize\n",
    "import string"
   ]
  },
  {
   "cell_type": "markdown",
   "metadata": {},
   "source": [
    "# Part 0: Building the network \n",
    "\n",
    "To create our network, we downloaded the rapper Wiki pages from each coast (during Week 4) and linked them via the hyperlinks connecting pages to each other. To achieve this goal we have used regular expressions.\n",
    "\n",
    "> * Explain the strategy you have used to extract the hyperlinks from the Wiki-pages, assuming that you have already collected the rapper pages with the Wikipedia API.\n",
    "> * Show the regular expressions you have built and explain in details how they work."
   ]
  },
  {
   "cell_type": "markdown",
   "metadata": {},
   "source": [
    "To extract the Wiki links from the rapper pages loop over the wiki page of each rapper. Here the page of the current rapper is denoted ``` text ``` . In this we know to look for the pattern ```[[link]]``` or ```[[link | alias]]```. Therefore we have used a regular expression in the following way: \n",
    "\n",
    "```python\n",
    "pattern = r\"\\[\\[(.+?)\\]\\]\"\n",
    "links = re.findall(pattern, text)\n",
    "```\n",
    "\n",
    "Here the ``findall`` function ensures that all instances of matches are found. The pattern is defined as follows:\n",
    "\n",
    "* ``\\[\\[`` : The pattern starts with two square brackets\n",
    "* ```(.+?)``` : The pattern group (denoted with ``()``) continues with any character (```.```) between one and unlimited times (```+```). Finally the question mark ensures that the pattern is \"lazy\".\n",
    "* ```\\]\\]``` : The pattern ends with two square brackets\n",
    "\n",
    "Finally we add the following line to remove the alias from the links:\n",
    "    \n",
    "```python\n",
    "links = [link.split('|')[0] for link in links]\n",
    "```\n",
    "Hereby a list of links is created for this rapper."
   ]
  },
  {
   "cell_type": "markdown",
   "metadata": {},
   "source": [
    "# Part 1: Network visualization and basic stats\n",
    "\n",
    "Visualize your network of rappers (from lecture 5) and calculate stats (from lecture 4 and 5). For this exercise, we assume that you have already generated the network and extracted the largest weakly connected component (the \"largest weakly connected component\" of a directed network is the subgraph consisting of the nodes that would constitute the largest connected component if the network were undirected) . The visualization and statistics should be done for the largest weakly connected component only."
   ]
  },
  {
   "cell_type": "markdown",
   "metadata": {},
   "source": [
    "### Extract network"
   ]
  },
  {
   "cell_type": "code",
   "execution_count": 285,
   "metadata": {},
   "outputs": [],
   "source": [
    "# load the graph\n",
    "G = nx.read_gexf('data/rapper_network.gexf')\n",
    "\n",
    "# extract largest weakly connected component\n",
    "largest_cc = max(nx.weakly_connected_components(G), key=len)\n",
    "# create a subgraph of the largest connected component\n",
    "g = G.subgraph(largest_cc)"
   ]
  },
  {
   "cell_type": "markdown",
   "metadata": {},
   "source": [
    "_Exercise 1a_: Stats (see lecture 4 and 5 for more hints)\n",
    "\n",
    "> * What is the number of nodes in the network? \n",
    "> * What is the number of links?\n",
    "> * Who is the top connected rapper? (Report results for the in-degrees and out-degrees). Comment on your findings. Is this what you would have expected?\n",
    "> * Who are the top 5 most connected east-coast rappers (again in terms of in/out-degree)? \n",
    "> * Who are the top 5 most connected west-coast rappers (again in terms of in/out-degree)?\n",
    "> * Plot the in- and out-degree distributions for the whole network. \n",
    ">   * Use axes that make sense for visualizing this particular distribution.\n",
    ">   * What do you observe? \n",
    ">   * Give a pedagogical explaination of why the in-degree distribution is different from the out-degree distribution?\n",
    "> * Find the exponent (by using the `powerlaw` package) for the in- and out-degree distributions. What does it say about our network?\n",
    "> * Compare the two degree distributions two the degree distribution of a *random network* (undirected) with the same number of nodes and probability of connection *p*. Comment your results.\n",
    "\n"
   ]
  },
  {
   "cell_type": "markdown",
   "metadata": {},
   "source": [
    "### Number of nodes and links"
   ]
  },
  {
   "cell_type": "code",
   "execution_count": 286,
   "metadata": {},
   "outputs": [
    {
     "name": "stdout",
     "output_type": "stream",
     "text": [
      "Number of nodes:  728\n",
      "Number of links:  5824\n"
     ]
    }
   ],
   "source": [
    "# print the number of nodes and edges\n",
    "print(\"Number of nodes: \", g.number_of_nodes())\n",
    "print(\"Number of links: \", g.number_of_edges())\n",
    "\n",
    "# There should be 728 and 5809"
   ]
  },
  {
   "cell_type": "markdown",
   "metadata": {},
   "source": [
    "### Top connected rapper"
   ]
  },
  {
   "cell_type": "code",
   "execution_count": 289,
   "metadata": {},
   "outputs": [
    {
     "name": "stdout",
     "output_type": "stream",
     "text": [
      "Highest in-degree: Snoop Dogg , 125\n",
      "Highest out-degree: Drag-On , 52\n"
     ]
    }
   ],
   "source": [
    "# find most connected rapper\n",
    "in_degree_dict = dict(g.in_degree(g.nodes()))\n",
    "out_degree_dict = dict(g.out_degree(g.nodes()))\n",
    "degree_dict = dict(g.degree(g.nodes()))\n",
    "\n",
    "# sort the dictionary by degree\n",
    "print(\"Highest in-degree:\", max(in_degree_dict, key=in_degree_dict.get), \",\", in_degree_dict[max(in_degree_dict, key=in_degree_dict.get)])\n",
    "print(\"Highest out-degree:\", max(out_degree_dict, key=out_degree_dict.get), \",\", out_degree_dict[max(out_degree_dict, key=out_degree_dict.get)])"
   ]
  },
  {
   "cell_type": "markdown",
   "metadata": {},
   "source": [
    "The rapper with the highest in-degree is Snoop Dog. Hence he is the most referenced by other rappers wikitexts. Since snoop Dog is a well known rapper with a large discography we can expect a large number of references to him. Also based on his Wikipedia text he appears very influential in rap. On the other hand Drag-On has the most references to other rappers. "
   ]
  },
  {
   "cell_type": "markdown",
   "metadata": {},
   "source": [
    "### Top connected east and west coast rappers"
   ]
  },
  {
   "cell_type": "code",
   "execution_count": 111,
   "metadata": {},
   "outputs": [],
   "source": [
    "# find most connected rappers from east and west coast\n",
    "central_nodes_in = sorted(g.in_degree, key=lambda x: x[1], reverse=True)\n",
    "central_nodes_out = sorted(g.out_degree, key=lambda x: x[1], reverse=True)\n",
    "\n",
    "central_nodes_in_east = []\n",
    "central_nodes_in_west = []\n",
    "central_nodes_out_east = []\n",
    "central_nodes_out_west = []\n",
    "\n",
    "for node in central_nodes_in:\n",
    "    if g.nodes[node[0]]['Coast'] == 'East':\n",
    "        central_nodes_in_east.append(node)\n",
    "    else:\n",
    "        central_nodes_in_west.append(node)\n",
    "\n",
    "for node in central_nodes_out:\n",
    "    if g.nodes[node[0]]['Coast'] == 'East':\n",
    "        central_nodes_out_east.append(node)\n",
    "    else:\n",
    "        central_nodes_out_west.append(node)"
   ]
  },
  {
   "cell_type": "code",
   "execution_count": 112,
   "metadata": {},
   "outputs": [
    {
     "name": "stdout",
     "output_type": "stream",
     "text": [
      "Top 5 highest in-degree east coast rappers:\n",
      "[('Jay-Z', 115), ('Nas', 98), ('50 Cent', 92), ('Busta Rhymes', 83), ('The Notorious B.I.G.', 63)]\n",
      "Top 5 highest out-degree east coast rappers:\n",
      "[('Drag-On', 52), ('Black Thought', 42), ('Jahlil Beats', 35), ('MC Lyte', 35), ('Uncle Murda', 34)]\n"
     ]
    }
   ],
   "source": [
    "# Most connected east coast rappers\n",
    "print(\"Top 5 highest in-degree east coast rappers:\" + \"\\n\" + str(central_nodes_in_east[:5]))\n",
    "print(\"Top 5 highest out-degree east coast rappers:\" + \"\\n\" + str(central_nodes_out_east[:5]))"
   ]
  },
  {
   "cell_type": "code",
   "execution_count": 113,
   "metadata": {},
   "outputs": [
    {
     "name": "stdout",
     "output_type": "stream",
     "text": [
      "Top 5 highest in-degree west coast rappers:\n",
      "[('Snoop Dogg', 125), ('Dr. Dre', 81), ('Kendrick Lamar', 75), ('Tupac Shakur', 70), ('E-40', 63)]\n",
      "Top 5 highest out-degree west coast rappers:\n",
      "[('DJ Dahi', 38), ('Kendrick Lamar', 37), ('Dr. Dre', 36), ('The Game (rapper)', 36), ('Kurupt', 35)]\n"
     ]
    }
   ],
   "source": [
    "# Most connected west coast rappers\n",
    "print(\"Top 5 highest in-degree west coast rappers:\" + \"\\n\" + str(central_nodes_in_west[:5]))\n",
    "print(\"Top 5 highest out-degree west coast rappers:\" + \"\\n\" + str(central_nodes_out_west[:5]))"
   ]
  },
  {
   "cell_type": "markdown",
   "metadata": {},
   "source": [
    "### Plot of distributions"
   ]
  },
  {
   "cell_type": "code",
   "execution_count": 311,
   "metadata": {},
   "outputs": [
    {
     "data": {
      "image/png": "[encoded data removed]",
      "text/plain": [
       "<Figure size 1000x500 with 2 Axes>"
      ]
     },
     "metadata": {},
     "output_type": "display_data"
    }
   ],
   "source": [
    "# plot distribution of in- and out-degrees\n",
    "plt.figure(figsize=(10, 5))\n",
    "plt.subplot(1, 2, 1)\n",
    "plt.hist(in_degree_dict.values(),bins = 50, color='c',edgecolor = 'blue')\n",
    "plt.title(\"In-degree distribution\")\n",
    "plt.xlabel(\"In-degree\")\n",
    "plt.ylabel(\"Frequency\")\n",
    "plt.subplot(1, 2, 2)\n",
    "plt.hist(out_degree_dict.values(), bins = 50, color='c', edgecolor='blue')\n",
    "plt.title(\"Out-degree distribution\")\n",
    "plt.xlabel(\"Out-degree\")\n",
    "plt.ylabel(\"Frequency\")\n",
    "plt.show()"
   ]
  },
  {
   "cell_type": "markdown",
   "metadata": {},
   "source": [
    "In the figure we can observe that the in-degree distribution is different from the out-degree distribution. It is noticiable that the in-degree reaches much higher values than the out-degree. Furthermore the in-degree distribution is more skewed than the out-degree distribution with a higher frequence for low in-degree values. Logically the in-degree distribution is more skewed than the out-degree distribution since less rappers are referenced by many other rappers than the other way around. Most rappers in the network are less known and therefore referenced by less other rappers. On the other hand the most famous rappers are referenced by many other rappers. Also the less known rappers most likely have shorter carees and discografies hence less references to other rappers."
   ]
  },
  {
   "cell_type": "markdown",
   "metadata": {},
   "source": [
    "### Exponent of distributions"
   ]
  },
  {
   "cell_type": "code",
   "execution_count": 333,
   "metadata": {},
   "outputs": [
    {
     "name": "stdout",
     "output_type": "stream",
     "text": [
      "Calculating best minimal value for power law fit\n",
      "Calculating best minimal value for power law fit\n",
      "xmin progress: 97%\r"
     ]
    },
    {
     "name": "stderr",
     "output_type": "stream",
     "text": [
      "Values less than or equal to 0 in data. Throwing out 0 or negative values\n",
      "Values less than or equal to 0 in data. Throwing out 0 or negative values\n"
     ]
    }
   ],
   "source": [
    "import powerlaw\n",
    "\n",
    "a_in = powerlaw.Fit(list(in_degree_dict.values())).alpha\n",
    "a_out = powerlaw.Fit(list(out_degree_dict.values())).alpha"
   ]
  },
  {
   "cell_type": "code",
   "execution_count": 343,
   "metadata": {},
   "outputs": [
    {
     "name": "stdout",
     "output_type": "stream",
     "text": [
      "alpha- in degree: 2.748\n",
      "alpha- out degree: 12.016\n"
     ]
    }
   ],
   "source": [
    "print(\"alpha- in degree:\", f'{a_in:.3f}')\n",
    "print(\"alpha- out degree:\", f'{a_out:.3f}')"
   ]
  },
  {
   "cell_type": "markdown",
   "metadata": {},
   "source": [
    "Using the powerlaw package we find that the exponent of the in-degree distribution is 2.7 and the exponent of the out-degree distribution is 12.0. Hence both networks are networks with powerlaw distributions. "
   ]
  },
  {
   "cell_type": "markdown",
   "metadata": {},
   "source": [
    "### Comparison to a random network"
   ]
  },
  {
   "cell_type": "code",
   "execution_count": 310,
   "metadata": {},
   "outputs": [
    {
     "data": {
      "image/png": "[encoded data removed]",
      "text/plain": [
       "<Figure size 1000x500 with 1 Axes>"
      ]
     },
     "metadata": {},
     "output_type": "display_data"
    }
   ],
   "source": [
    "# create random graph with same number of nodes and p\n",
    "p = (g.number_of_edges()*2) / (g.number_of_nodes() * (g.number_of_nodes() - 1))\n",
    "random_graph = nx.erdos_renyi_graph(g.number_of_nodes(), p)\n",
    "\n",
    "# plot degree distribution of in and out degree\n",
    "degrees = [random_graph.degree(n) for n in random_graph.nodes()]\n",
    "# create subplots\n",
    "plt.figure(figsize=(10, 5))\n",
    "plt.subplot(1,2,1)\n",
    "plt.hist(degrees, bins=20, color='c', edgecolor='blue')\n",
    "plt.xlabel('Degree')\n",
    "plt.ylabel('Frequency')\n",
    "\n",
    "\n",
    "# plot in degree on loglog scale\n",
    "#unique_degrees = np.unique(degrees)\n",
    "#multiplicity_out = [degrees.count(i) for i in unique_degrees]\n",
    "\n",
    "#plt.subplot(1,2,2)\n",
    "#plt.plot(unique_degrees, multiplicity_out, 'o', color = 'blue')\n",
    "#plt.xlabel('degree')\n",
    "#plt.ylabel('Frequency')\n",
    "\n",
    "#plt.suptitle('Degree distribution')\n",
    "plt.show()\n"
   ]
  },
  {
   "cell_type": "markdown",
   "metadata": {},
   "source": [
    "The random network follows a poisson distribution..."
   ]
  },
  {
   "cell_type": "markdown",
   "metadata": {},
   "source": [
    "_Exercise 1b_: Visualization (see lecture 5 for more hints)\n",
    "\n",
    "> * Create a nice visualization of the total (directed) network:\n",
    ">   * Color nodes according to the role;\n",
    ">   * Scale node-size according to degree;\n",
    ">   * Get node positions based on either the Force Atlas 2 algorithm, or the built-in algorithms for networkX;\n",
    ">   * Whatever else you feel like that would make the visualization nicer.\n",
    "> * Describe the structure you observe. What useful information can you decipher from this?"
   ]
  },
  {
   "cell_type": "markdown",
   "metadata": {},
   "source": [
    "# Part 2: Word-clouds\n",
    "\n",
    "Create your own version of the word-clouds (from lecture 7). For this exercise we assume you know how to download and clean text from rappers' Wikipedia pages.\n",
    "\n",
    "Here's what you need to do:\n",
    "> * Create a word-cloud for each coast according to the novel TF-TR method. Feel free to make it as fancy as you like. Explain your process and comment on your results.\n",
    "> * For each coast, what are the 5 words with the highest TR scores? Comment on your result."
   ]
  },
  {
   "cell_type": "markdown",
   "metadata": {},
   "source": [
    "# Part 3: Communities\n",
    "\n",
    "Find communities and their modularity (from lecture 7).\n",
    "\n",
    "Here's what you need to do:\n",
    "> * In your own words, explain what the measure \"modularity\" is, and the intuition behind the formula you use to compute it. \n",
    "> * Find communities in the network, and explain how you chose to identify the communities: Which algorithm did you use and how does it work?\n",
    "> * Comment on your results:\n",
    ">   * How many communities did you find in total?\n",
    ">   * Compute the value of modularity with the partition created by the algorithm.\n",
    ">   * Plot and/or print the distribution of community sizes (whichever makes most sense). Comment on your result.\n",
    "> * Now, partition your rappers into two communities based on which coast they represent.\n",
    ">   * What is the modularity of this partition? Comment on the result."
   ]
  },
  {
   "cell_type": "markdown",
   "metadata": {},
   "source": [
    "# Part 4: Sentiment of communities\n",
    "\n",
    "Analyze the sentiment of communities (lecture 8). More tips & tricks can be found, if you take a look at Lecture 8's exercises.\n",
    "\n",
    "A couple of additional instructions you will need below:\n",
    "* Average the average sentiment of the nodes in each community to find a community-level sentiment.\n",
    "\n",
    "Here's what you need to do (use the LabMT wordlist approach):\n",
    "> * Calculate and store sentiment for every rapper\n",
    "> * Create a histogram of all rappers' associated sentiments.\n",
    "> * What are the 10 rappers with happiest and saddest pages?\n",
    "\n",
    "Now, compute the sentiment of each coast: \n",
    "> * Which is the happiest and which is saddest coast according to the LabMT wordlist approach? (Take the coast's sentiment to be the average sentiment of the coast's rappers' pages (disregarding any rappers with sentiment 0).\n",
    "> * Use the \"label shuffling test\" (Week 5 and 8) to test if the coast with the highest wikipedia page sentiment has a page sentiment that is significantly higher (5% confidence bound) than a randomly selected group of rappers of the same size.\n",
    "> * Does the result make sense to you? Elaborate.\n",
    "\n",
    "**Congratulations for making it to the end of the Assignment. Good luck with your independent project**\n",
    "\n"
   ]
  },
  {
   "cell_type": "code",
   "execution_count": 248,
   "metadata": {},
   "outputs": [],
   "source": [
    "# load txt\n",
    "labmt = pd.read_csv(\"data/LabMT.txt\", sep='\\t')\n",
    "\n",
    "# load rappers\n",
    "rappers = pd.read_csv(\"data/Rappers.csv\", sep=',')\n",
    "rappers_names = list(rappers['WikipediaPageName'])\n"
   ]
  },
  {
   "cell_type": "code",
   "execution_count": 249,
   "metadata": {},
   "outputs": [],
   "source": [
    "from nltk import FreqDist\n",
    "\n",
    "def sentiment_score(text):\n",
    "    text = word_tokenize(text)\n",
    "    text = [word.lower() for word in text if word.isalpha()]\n",
    "\n",
    "    total = 0\n",
    "    sent = 0\n",
    "    fdist = FreqDist(text)\n",
    "    for word in fdist:\n",
    "        if word in list(labmt['word']):\n",
    "            sent += labmt['happiness_average'].loc[labmt['word'] == word].values[0] * fdist[word]\n",
    "            total += fdist[word]\n",
    "\n",
    "    sent /= total\n",
    "\n",
    "    return sent"
   ]
  },
  {
   "cell_type": "code",
   "execution_count": 254,
   "metadata": {},
   "outputs": [
    {
     "name": "stdout",
     "output_type": "stream",
     "text": [
      "{'6ix9ine': 5.102875536480688, '9th Prince': 5.61232558139535, '22Gz': 5.64, '38 Spesh': 5.7173333333333325, 'The 45 King': 5.560888888888888, '50 Cent': 5.532028571428574, '60 Second Assassin (rapper)': 5.775609756097561, '88-Keys': 5.716, 'Sammy Adams': 5.692, 'Adeem (rapper)': 5.623846153846153, 'Aesop Rock': 5.573907284768214, 'Afu-Ra': 5.494117647058822, 'Akir': 5.754814814814814, 'Akrobatik': 5.5289743589743585, 'Alias (musician)': 5.475555555555554, 'Hoodie Allen': 5.700430107526884, 'Amil': 5.432499999999998, 'Antoinette (rapper)': 5.513913043478262, 'Aone Beats': 5.685802469135803, 'Apache (rapper)': 5.626, 'Apathy (rapper)': 5.513750000000003, 'AR-Ab': 5.483043478260871, 'AraabMuzik': 5.7753913043478295, 'Arkatech Beatz': 5.7511199999999985, 'M. K. Asante': 5.713333333333334, 'Asheru': 5.700833333333333, 'The Audible Doctor': 5.506739130434782, 'Awkwafina': 5.9224657534246585, 'AZ (rapper)': 5.580833333333334, 'Apani B. Fly': 5.704615384615384, 'DJ Babu': 5.473333333333334, 'Bahamadia': 5.789565217391306, 'Marty Baller': 5.511588785046732, 'Charli Baltimore': 5.6925, 'Afrika Bambaataa': 5.530307692307692, 'Bodega Bamz': 5.481186440677965, 'Azealia Banks': 5.7006349206349185, 'Lloyd Banks': 5.630405405405406, 'MC Paul Barman': 5.553131313131313, 'Mark Batson': 5.673518518518521, 'The Beat Bully': 5.516623376623379, 'Jahlil Beats': 5.431641791044778, 'Beedie (rapper)': 5.6295652173913036, 'Benny the Butcher': 5.493333333333332, 'Benzino': 5.655, 'Big Body Bes': 5.72390243902439, 'Big Daddy Kane': 5.576883116883118, 'Big Pun': 5.4125, 'Big Shug': 5.4924, 'Bkorn': 5.713333333333333, 'Black Child': 5.418113207547171, 'Black Rob': 5.30057142857143, 'Black Thought': 5.639743589743589, 'Memphis Bleek': 5.688999999999998, 'Blockhead (music producer)': 5.626060606060607, 'Action Bronson': 5.6581481481481495, 'Bronx Style Bob': 5.600952380952382, 'Foxy Brown (rapper)': 5.506893203883496, 'Tommy Brown (record producer)': 5.746764705882352, 'Ron Browz': 5.622533333333335, 'Buckshot (rapper)': 5.720322580645162, 'Buckwild (music producer)': 5.48354430379747, 'Joe Budden': 5.475662650602411, 'Dai Burger': 5.829655172413792, 'Cage (rapper)': 5.6358139534883716, 'Crystal Caines': 5.567586206896553, 'Call Me Ace': 5.64273062730627, \"Cam'ron\": 5.5254237288135615, 'Canibus': 5.647692307692308, 'Don Cannon': 5.565189873417725, 'Capella Grey': 5.561666666666667, 'Capital Steez': 5.391413043478261, 'Capone (rapper)': 5.610769230769231, 'Cappadonna': 5.628285714285714, 'Kid Capri': 5.851111111111111, 'Cardi B': 5.742117647058824, 'Cardiak': 5.665531914893617, 'Casanova (rapper)': 5.383999999999999, 'Cassidy (rapper)': 5.659999999999998, 'Grandmaster Caz': 5.4816071428571425, 'Cazwell': 5.598181818181819, \"Lil' Cease\": 5.433636363636363, 'John Cena': 5.666463878326996, 'Ceschi': 5.793684210526315, 'DJ Charlie Chase': 5.447733333333336, 'Chinx': 5.206153846153847, 'DJ Chuck Chillout': 5.708235294117646, 'Chyskillz': 5.423478260869564, 'CJ (rapper)': 5.57309090909091, 'Clams Casino (musician)': 5.519615384615386, 'Sean Combs': 5.654310344827587, 'Consequence (rapper)': 5.631666666666666, 'Conway the Machine': 5.439333333333333, 'Cool C': 5.062307692307692, 'Cordae': 5.484272727272727, 'Cousin Stizz': 5.554736842105262, 'Keef Cowboy': 5.58, 'Jay Critch': 5.724761904761904, 'Cuban Link': 5.526666666666666, 'D-Nice': 5.716046511627906, 'Daddy-O (rapper)': 5.560689655172414, 'Danger Mouse (musician)': 5.542857142857144, 'Danny Boy (rapper)': 5.571149425287357, 'Dash (rapper)': 5.372820512820513, 'Desiigner': 5.678000000000002, 'Diabolic (rapper)': 5.491578947368422, 'Kosha Dillz': 5.465000000000001, 'Flipp Dinero': 5.6674545454545475, 'Disco King Mario': 5.6641379310344835, 'DJ Disco Wiz': 5.884999999999999, 'DMX': 5.417877094972068, 'Tim Dog': 5.403410852713179, 'B. Dolan': 5.782500000000001, 'Don Q (rapper)': 5.644615384615384, 'MF Doom': 5.4060000000000015, 'Dot da Genius': 5.70639175257732, 'Drag-On': 5.5127868852459025, 'DJ Drama': 5.443035714285716, 'Dub-L': 5.785333333333333, 'Dutch ReBelle': 5.362222222222222, 'DVLP': 5.581724137931035, 'Smoke DZA': 5.45875, 'E.D.I. Mean': 5.511555555555555, 'East Flatbush Project': 5.670588235294118, 'Dave East': 5.587796610169492, 'Ed O.G.': 5.523448275862068, 'El-P': 5.42923076923077, 'Eric B.': 5.541967213114756, 'Esoteric (rapper)': 5.472105263157894, 'Eve (rapper)': 5.505154639175259, 'Eyenine': 5.8759999999999994, 'Fabolous': 5.616116504854368, 'Mickey Factz': 5.734285714285713, 'Fat Joe': 5.581739130434783, 'Hussein Fatal': 5.190256410256409, 'Felly': 5.698181818181817, 'ASAP Ferg': 5.510064935064934, 'Grandmaster Flash': 5.603999999999999, 'CJ Fly': 5.545333333333332, 'Focus...': 5.6680303030303065, 'Q Da Fool': 5.415, 'Fivio Foreign': 5.483583333333334, 'Freddie Foxxx': 5.744347826086956, 'Njena Reddd Foxxx': 5.574000000000001, 'Sage Francis': 5.6025, 'Harry Fraud': 5.477540106951875, 'Fred the Godson': 5.19525, 'Freekey Zekey': 5.55111111111111, 'Frenchie (rapper)': 5.309622641509433, 'Fresh Kid Ice': 5.68860465116279, 'Doug E. Fresh': 5.668085106382977, 'Funkmaster Flex': 5.656458333333333, 'Ty Fyffe': 5.6412, 'G Koop': 5.625454545454546, 'Heather B. Gardner': 5.752399999999999, 'Mic Geronimo': 5.503586206896551, 'Ghostface Killah': 5.563367346938775, 'Godfather Don': 5.578000000000001, 'Irv Gotti': 5.467307692307693, 'Jean Grae': 5.74351851851852, 'Grafh': 5.625789473684213, 'Dame Grease': 5.5200000000000005, 'MF Grimm': 5.717000000000002, 'Cory Gunz': 5.925555555555555, 'Guru (rapper)': 5.483544303797468, 'GZA': 5.693030303030304, 'Half a Mill': 5.557333333333332, 'Sleepy Hallow': 5.445925925925926, 'Charles Hamilton (rapper)': 5.588857142857142, 'Andre Harrell': 5.561428571428572, 'Havoc (musician)': 5.436153846153845, 'Emile Haynie': 5.810126582278482, 'Heavy D': 5.499069767441859, 'Hell Rell': 5.443076923076922, 'Samuel T. Herring': 5.58232558139535, 'Chad Hugo': 5.510476190476194, 'DJ Hurricane': 5.441454545454546, 'Ice Spice': 5.76909090909091, 'Ill Bill': 5.432631578947369, 'Inspectah Deck': 5.54276923076923, 'Islord': 5.450461538461538, 'J.I the Prince of N.Y': 5.709189189189189, 'J57 (rapper)': 5.678255813953489, 'Ja Rule': 5.426021505376345, 'Jadakiss': 5.426874999999999, 'Ms. Jade': 5.789677419354839, 'Mike Jaggerr': 5.6865116279069765, 'Jam Master Jay': 5.552608695652173, 'Jasiri X': 5.657567567567568, 'Jay-Z': 5.635145631067959, 'Jaz-O': 5.5320833333333335, 'MC Jazzy Jeff': 5.549393939393944, 'DJ Jazzy Joyce': 5.550560747663552, 'MC Jin': 5.637297297297296, 'Jipsta': 5.636691729323309, 'Joey Badass': 5.58675, 'Chilla Jones': 5.573333333333333, 'Serius Jones': 5.331272727272727, 'JPEGMafia': 5.588529411764708, 'Junglepussy': 5.76972972972973, 'Just Blaze': 5.5666896551724125, 'Just-Ice': 5.710000000000001, 'Ka$hdami': 5.6897872340425515, 'Kangol Kid': 5.6000000000000005, 'Kastro (rapper)': 5.433559322033898, 'DJ Kay Slay': 5.632075471698114, 'Kemba (rapper)': 5.543902439024389, 'Jamie Kennedy': 5.602926829268293, 'Wiz Khalifa': 5.622187499999998, 'Killa Sin': 5.451666666666667, 'Kirk Knight': 5.5931250000000015, 'Tate Kobang': 5.668750000000001, 'Kool G Rap': 5.43908256880734, 'Kool Moe Dee': 5.584078947368423, 'KRS-One': 5.409729729729732, 'Talib Kweli': 5.682758620689656, 'Big L': 5.396206896551725, 'Coke La Rock': 5.537021276595745, 'Scott La Rock': 5.455087719298247, 'Lady B': 5.5634000000000015, 'Lady Crush': 5.707916666666667, 'Al Sherrod Lambert': 5.856046511627906, 'Lamiere': 5.587857142857142, 'Knero Lapaé': 5.623636363636363, 'Larry Larr': 5.565504587155965, 'Sabor Latino': 5.866249999999999, 'Lee on the Beats': 5.625970149253734, 'HeeSun Lee': 5.755384615384614, 'Trip Lee': 5.71675675675676, 'Le1f': 5.539655172413794, 'Johan Lenox': 5.798823529411766, 'Coi Leray': 5.627945205479452, 'Alrad Lewis': 5.731052631578948, 'Rob Lewis (record producer)': 5.421818181818181, 'Mr. Lif': 5.649615384615387, 'Like (record producer)': 5.629032258064516, 'Lil Dicky': 5.760000000000001, 'Lil Mama': 5.769638554216867, 'Lil Peep': 5.577816901408453, 'Lil Tjay': 5.615844155844156, \"Lil' Kim\": 5.657934782608695, 'Lin Que': 5.370909090909091, 'Ex-plicit linez': 5.500686274509803, 'Dusty Locane': 5.47344827586207, 'Nicholas Loftin': 5.5435897435897425, 'DJ Logic': 5.7988888888888885, 'Sheek Louch': 5.676551724137931, 'Louis Logic': 5.595135135135135, 'Ed Lover': 5.624912280701754, 'Jan Lucanus': 5.84969696969697, 'Joyner Lucas': 5.544622641509435, 'MC Lyte': 5.407105263157896, 'M-Dot': 5.670399999999998, 'Remy Ma': 5.616956521739131, 'China Mac': 5.34, 'Mach-Hommy': 5.516700000000001, 'Craig Mack': 5.314285714285714, 'Kellee Maize': 5.6817391304347815, 'Malik B.': 5.569166666666666, 'Roc Marciano': 5.63125, 'Biz Markie': 5.523125000000001, 'Marley Marl': 5.811538461538461, 'Brother Marquis': 5.586052631578949, 'Skizzy Mars': 5.722857142857143, 'Theo Martins': 5.694782608695652, 'Mase': 5.3616504854368925, 'Masta Killa': 5.53304347826087, 'Mathematics (producer)': 5.5625, 'Ivan Matias': 5.746024096385542, 'Lady May (rapper)': 5.8017391304347825, 'Darryl McDaniels': 5.553333333333333, 'McGruff (rapper)': 5.722439024390243, 'Megahertz (record producer)': 5.758461538461538, 'Melle Mel': 5.5183333333333335, 'Method Man': 5.630531914893617, 'Mike D': 5.7896551724137915, 'Mikey D': 5.4656716417910465, 'Derrick Milano': 5.642435897435898, 'Meek Mill': 5.498181818181819, 'Mac Miller': 5.696969696969697, 'Jae Millz': 5.503035714285716, 'Mims (rapper)': 5.693015873015874, 'Andy Mineo': 5.754600000000002, \"Mr. Muthafuckin' eXquire\": 5.541075268817206, 'Mr. Mixx': 5.551111111111113, 'Easy Mo Bee': 5.575945945945946, 'Pharoahe Monch': 5.675833333333333, 'French Montana': 5.72892857142857, 'Mos Def': 5.553450292397663, 'Ali Shaheed Muhammad': 5.627636363636363, 'Uncle Murda': 5.634166666666668, 'Keith Murray': 5.557777777777777, 'Myzery': 5.427272727272729, 'N.O.R.E.': 5.6504918032786895, 'Nas': 5.600588235294119, 'ASAP Nast': 5.436065573770489, 'Necro (rapper)': 5.499999999999999, 'Bishop Nehru': 5.7808, 'Neo da Matrix': 5.658983050847457, 'Nine (rapper)': 5.422142857142859, 'Nitty (musician)': 5.565365853658536, 'No Malice': 5.416290322580645, 'Young Noble': 5.4875, 'NOE (rapper)': 5.577619047619048, 'Princess Nokia': 5.766440677966102, 'The Notorious B.I.G.': 5.556067415730338, 'O.C. (rapper)': 5.606451612903225, \"Ol' Dirty Bastard\": 5.286615384615384, \"Shaquille O'Neal\": 5.579803439803442, 'Joell Ortiz': 5.487000000000001, 'Styles P': 5.583643410852716, 'Prince Paul (producer)': 5.744000000000002, 'Felicia Pearson': 5.325882352941178, 'Pepa (rapper)': 5.686060606060606, 'Percee P': 5.6737931034482765, 'Pete Rock': 5.583209876543211, 'Petey Pablo': 5.4887500000000005, 'Thee Phantom': 5.617961783439492, 'Phife Dawg': 5.366521739130435, 'Stelios Phili': 5.5878571428571435, 'Jamal Phillips': 5.375882352941176, 'Phresher': 5.554857142857141, 'Pras': 5.506868686868687, 'DJ Premier': 5.47076923076923, 'Sean Price': 5.4480645161290315, 'Prince Whipper Whip': 5.615454545454546, 'Princess Superstar': 5.590909090909092, 'Prodigy (rapper)': 5.38, 'Large Professor': 5.608888888888887, 'Prolyphic': 5.564324324324324, 'Pumpkinhead (rapper)': 5.7286111111111095, 'Pusha T': 5.651851851851852, 'Q-Tip (musician)': 5.5794736842105275, 'Queen Latifah': 5.935294117647061, 'Queen Pen': 5.777796610169494, 'Radamiz': 5.575000000000001, 'Rah Swish': 5.372121212121213, 'Rakim': 5.463092783505155, 'Kyle Rapps': 5.881176470588236, 'Hell Razah': 5.468, 'Oryn the Rebel': 5.338750000000001, 'Red Café': 5.581739130434781, 'Redman (rapper)': 5.708235294117646, 'Reks': 5.642608695652174, 'Salaam Remi': 5.505416666666668, 'Moshe Reuven': 5.550000000000001, 'Busta Rhymes': 5.542448979591837, 'DJ Richie Rich': 5.599368421052634, 'Chubb Rock': 5.68, 'Rockwilder': 5.66111111111111, 'ASAP Rocky': 5.524371859296483, 'Roscoe (rapper)': 5.657142857142857, 'Asher Roth': 5.590540540540542, 'Elle Royal': 5.553731343283581, 'David Rush (rapper)': 5.531750000000001, 'RZA': 5.455813953488371, 'Sadat X': 5.626666666666667, 'Saga (rapper)': 5.5774358974358975, 'Saigon (rapper)': 5.4657446808510635, 'Salt (rapper)': 5.589387755102041, 'Juelz Santana': 5.478172043010756, 'Sauce Money': 5.574583333333332, 'Scar Lip': 5.476875, 'Schoolly D': 5.532, 'Jill Scott (singer)': 5.828444444444445, 'DJ Scratch': 5.686206896551725, 'Sensational (musician)': 5.726666666666667, 'Sensato del Patio': 5.601199999999999, 'Erick Sermon': 5.671818181818181, 'Sha Money XL': 5.842857142857143, 'Jonathan Shecter': 5.578571428571429, 'Sheff G': 5.255223880597017, 'Bobby Shmurda': 5.591967213114755, 'Shock G': 5.473076923076923, 'Kiing Shooter': 5.542739726027397, 'Shyne': 5.5115094339622654, 'Beanie Sigel': 5.552075471698114, 'Silkski': 5.375625, 'Siya': 5.6602500000000004, 'DJ Skee': 5.905454545454546, 'Lil Skies': 5.8133333333333335, 'Skinnyfromthe9': 5.554230769230767, 'Slaine (rapper)': 5.523539823008847, 'Rashad Smith (producer)': 5.96, 'Will Smith': 5.628799999999999, 'Pop Smoke': 5.61125, 'CL Smooth': 5.697333333333333, 'Sam Sneed': 5.4448, 'Sole (hip hop artist)': 5.580555555555556, 'Sonaro': 5.631739130434783, 'Souleye (hip hop artist)': 5.755151515151518, 'Spank Rock': 5.6247058823529406, 'Special K (rapper)': 5.491940298507462, 'Jimmy Spicer': 5.479833333333333, 'Spoonie Gee': 5.435918367346939, 'Spose': 5.656470588235296, 'Busy Bee Starski': 5.741860465116279, 'Statik Selektah': 5.638636363636364, 'Stezo': 5.47875, 'David Stones': 5.599999999999999, 'Street Life (rapper)': 5.451372549019608, 'DJ Stretch Armstrong': 5.747407407407406, 'Mike Stud': 5.6904545454545445, 'Swizz Beatz': 5.653493975903615, 'Yhaunai Takiyal': 5.787826086956523, 'Teyana Taylor': 5.8132467532467516, 'Lil Tecca': 5.670886075949366, 'Sweet Tee': 5.519027027027029, 'Termanology': 5.515238095238097, 'Token (rapper)': 5.596923076923077, 'Tone Trump': 5.6657142857142855, 'Tha Trademarc': 5.699714285714286, 'Treach': 5.635624999999999, 'Turbo B': 5.522608695652173, 'ASAP Twelvyy': 5.4244776119403, 'U-God': 5.542195121951218, 'Vado (rapper)': 5.489268292682927, 'Justina Valentine': 5.774871794871795, 'Ali Vegas': 5.685087719298247, 'Vinylz': 5.600000000000001, 'Fetty Wap': 5.656708860759494, 'Ohmega Watts': 5.567857142857142, 'Chris Webby': 5.667764705882353, 'DJ Webstar': 5.8664, 'Sheck Wes': 5.647083333333334, 'Westside Gunn': 5.47016393442623, 'Tierra Whack': 5.575593220338985, 'DJ Whoo Kid': 5.540606060606063, 'Billy Drease Williams': 5.603295128939832, 'Saul Williams': 5.684545454545455, 'Tyler James Williams': 5.634807692307692, 'Wise (musician)': 5.863448275862067, 'Chevy Woods': 5.530499999999999, 'Jimmy Wopo': 5.690000000000001, 'Wordsworth (rapper)': 5.653333333333334, 'J.R. Writer': 5.5972413793103435, 'Wyldfyer': 5.404117647058823, 'Tony Yayo': 5.490495049504951, 'Young Chris': 5.503478260869565, 'Young M.A': 5.697924528301888, 'Young Music DYMG': 5.760555555555555, 'Younglord': 5.6, 'Nosson Zand': 5.6, 'ZillaKami': 5.3374999999999995, 'Mike Zombie': 5.477333333333335, '03 Greedo': 5.441855670103092, '24kGoldn': 5.637931034482758, '40 Glocc': 5.739999999999999, 'A-Plus (rapper)': 5.408139534883722, 'DJ A-Tron': 5.684230769230769, 'Ab-Soul': 5.6075000000000035, 'Abstract Rude': 5.309375, 'Aceyalone': 5.460000000000001, 'Afroman': 5.613846153846155, 'Ahmad (rapper)': 5.521395348837209, \"Ak'Sent\": 5.651578947368423, 'The Alchemist (musician)': 5.634054054054054, 'AMG (rapper)': 5.814736842105263, 'Aminé (rapper)': 5.7235555555555555, 'Antwon': 5.483404255319151, 'Aztlan Underground': 5.612857142857143, 'B-Legit': 5.701333333333333, 'B-Real': 5.400821917808221, 'B.G. Knocc Out': 5.592727272727273, 'Show Banga': 5.4022162162162175, 'Ant Banks': 5.61, 'Sho Baraka': 5.63268817204301, 'Becky G': 5.72678260869565, 'Beefy (rapper)': 5.57875, 'Berner (rapper)': 5.579199999999999, 'Big B (rapper)': 5.594473684210526, 'Big Dave (rapper)': 5.433333333333332, 'Big Ed (rapper)': 5.595454545454545, 'Big Fase 100': 5.490869565217389, 'Bizzle': 5.85875, 'Aloe Blacc': 5.64530303030303, 'Black Pegasus': 5.607857142857142, 'Guerilla Black': 5.531604938271606, 'Nissim Black': 5.45, 'Toni Blackman': 5.65, 'Blueface': 5.70987012987013, 'Blxst': 5.539298245614036, 'Bones (rapper)': 5.577307692307692, 'Braille (musician)': 5.589176470588235, 'Buddy (rapper)': 5.546341463414633, 'Busdriver': 5.588235294117647, 'Scott Caan': 5.468354430379746, 'Sway Calloway': 5.591358024691359, 'Nick Cannon': 5.652352941176471, 'Clyde Carson': 5.4240650406504045, 'Celestaphone': 5.855714285714285, 'DJ Cheapshot': 5.60625, 'Tha Chill': 5.553387096774193, 'Shawn Chrystopher': 5.78044943820225, 'Chanel West Coast': 5.9421052631578934, 'Conceit (rapper)': 5.2700000000000005, 'Coolio': 5.6300917431192685, 'Cozz': 5.617142857142857, 'Crooked I': 5.456458333333335, 'Omega Crosby': 5.735555555555555, 'Cut Chemist': 5.456666666666667, 'D-Loc': 5.414444444444445, 'The D.O.C.': 5.530731707317074, 'Daddy X': 5.657468354430381, 'DJ Dahi': 5.605223880597017, 'Dazzie Dee': 5.517241379310346, 'Del the Funky Homosapien': 5.49909090909091, 'Timothy DeLaGhetto': 5.544736842105263, 'Demrick': 5.3273809523809526, 'Scoop DeVille': 5.492666666666667, 'Daz Dillinger': 5.178571428571428, 'Nate Dogg': 5.498695652173913, 'Snoop Dogg': 5.683055555555557, 'Domino (rapper)': 5.445185185185183, 'Drakeo the Ruler': 5.435652173913044, 'Dr. Dre': 5.327113402061857, 'Droop-E': 5.547692307692308, 'DTTX (rapper)': 5.522666666666666, 'Dumbfoundead': 5.554693877551021, 'E-40': 5.556037735849059, 'Eazy-E': 5.440980392156862, 'MC Eiht': 5.495263157894733, 'Eprhyme': 5.594732142857147, 'Evidence (musician)': 5.65095238095238, 'Exile (producer)': 5.586249999999999, 'Fashawn': 5.634503816793897, 'Fatlip': 5.588421052631579, 'Joey Fatts': 5.527213114754101, 'Kevin Federline': 5.554505494505496, 'Roshon Fegan': 5.6655263157894735, 'JT the Bigga Figga': 5.627659574468086, 'Flash Bang Grenada': 5.395, 'Flying Lotus': 5.493548387096773, 'Shawn Fonteno': 5.486190476190476, 'Foreknown (rapper)': 5.674857142857143, 'Dave Free': 5.986307692307696, 'Mike Free': 5.7536231884058, 'DJ Fresh (American DJ)': 5.559733333333334, 'MC Frontalot': 5.755294117647058, 'Frost (rapper)': 5.471884057971016, 'Futuristic (rapper)': 5.657297297297296, 'The Futuristics': 5.556024096385543, 'The Game (rapper)': 5.715591397849462, 'GaTa': 5.541621621621622, 'O.T. Genasis': 5.803750000000001, 'Domo Genesis': 5.6293181818181806, 'Getter (DJ)': 5.53, 'Gift of Gab (rapper)': 5.629818181818181, 'Grieves': 5.682564102564101, \"Haiku d'Etat\": 5.363061224489795, 'Hi-C (rapper)': 5.476764705882352, 'Adam Hicks': 5.517288135593218, 'Hit-Boy': 5.584000000000001, 'Hittman': 5.601999999999999, 'Hodgy': 5.687297297297297, 'Hopsin': 5.541333333333335, 'Hot Rod (rapper)': 5.611296296296296, 'Houston (singer)': 5.554166666666667, 'Brotha Lynch Hung': 5.311555555555556, 'Hurt-M-Badd': 5.3469230769230744, 'Nipsey Hussle': 5.675744680851063, 'Skhye Hutch': 5.749999999999999, 'Iame (rapper)': 5.623146067415732, 'Iamsu!': 5.536712328767123, 'Ice Cube': 5.5037867647058825, 'Ice-T': 5.635425531914895, 'ILoveMakonnen': 5.639333333333334, 'The Jacka': 5.499999999999999, 'Jake One': 5.578571428571428, 'Noa James': 5.4575, 'Jel (music producer)': 5.547058823529412, 'Jeff Jericho': 5.686666666666663, 'JGivens': 5.539090909090908, 'JHawk': 5.649206349206346, 'Sir Jinx': 5.279726027397259, 'Hobo Johnson': 5.601538461538462, 'Judge Da Boss': 5.429117647058823, 'Self Jupiter': 5.484516129032257, 'K-the-I': 5.534074074074075, 'Kam (rapper)': 5.668888888888888, 'Keak da Sneak': 5.456756756756757, 'Baby Keem': 5.62875, 'Dom Kennedy': 5.731752577319585, 'DJ Khalil': 5.544675324675326, 'Kid Ink': 5.6641463414634154, 'DJ King Assassin': 5.68095238095238, 'King Lil G': 5.494999999999999, 'King Tech': 5.708749999999998, 'King T': 5.461261261261261, 'Curtiss King': 5.717692307692307, 'Rydah J. Klyde': 5.594545454545456, 'Knightowl': 5.573333333333332, 'Knxwledge': 5.617959183673469, 'Kokane': 5.709428571428571, 'Kossisko': 5.4066233766233776, 'Kreayshawn': 5.855319148936172, 'Krondon': 5.430357142857142, 'Kurupt': 5.477659574468084, 'Kyle (musician)': 5.462413793103449, 'Kendrick Lamar': 5.482903225806454, 'Bishop Lamont': 5.49, 'MC Lars': 5.347999999999999, 'Laz-D': 5.462424242424244, 'Lecrae': 5.78875, 'Lefty (rapper)': 5.508541666666666, 'Shorty (American rapper)': 5.483870967741934, 'Lil B': 5.49267605633803, 'Lil Debbie': 5.608627450980393, \"Lil' Fizz\": 5.700512820512819, 'Lil Italy': 5.323775510204082, 'Lil Ric': 5.271515151515151, 'Lil Rob': 5.589411764705882, 'Lil Xan': 5.608297872340426, 'Amber Liu (singer)': 5.712413793103449, 'Locksmith (rapper)': 5.420606060606061, 'LoveRance': 5.519111111111112, 'Luni Coleone': 5.747999999999999, 'Mac Dre': 5.512121212121213, 'CJ Mac': 5.62, 'Mack 10': 5.537428571428572, 'Macklemore': 5.744262295081969, 'Madlib': 5.4679166666666665, 'Mac Mall': 5.566315789473684, 'Glasses Malone': 5.415555555555555, 'Mann (rapper)': 5.665299999999999, 'Mayne Mannish': 5.633846153846154, 'Terrace Martin': 5.761739130434782, 'Young Maylay': 5.5505555555555555, 'Trevor McFedries': 5.506086956521742, 'Mr. J. Medeiros': 5.570000000000001, 'Eli Meltzer': 5.588965517241379, 'Messy Marv': 5.408571428571428, 'Cymphonique Miller': 5.664, 'Mistah F.A.B.': 5.539137055837566, 'Mix Master Mike': 5.792173913043477, 'Slim the Mobster': 5.319137931034484, 'KC Montero': 5.497333333333334, 'Jonathan Moore (musician)': 5.512682926829267, 'Lil Mosey': 5.5743103448275875, 'Mr. Capone-E': 5.715714285714286, 'Murs (rapper)': 5.4571875, 'Myka 9': 5.604230769230769, 'Emcee N.I.C.E.': 5.721875, 'Nappy Nina': 5.5, 'Shady Nate': 5.340689655172413, 'Nichkhun': 5.7351515151515144, 'Damani Nkosi': 5.342, 'Nobody (producer)': 5.333064516129033, 'Nocando': 5.462978723404255, 'Cool Nutz': 5.825454545454544, 'O.Y.G Redrum 781': 5.389333333333334, 'Oh No (musician)': 5.463555555555555, 'OhGeesy': 5.444375, 'Only Won': 5.586176470588232, 'Paris (rapper)': 5.525952380952381, 'Jay Park': 5.627064676616916, 'Teddy Park': 5.802089552238807, 'Passion (rapper)': 5.570800000000002, 'Peace (rapper)': 5.62967741935484, 'J Peezy': 5.50929577464789, 'Dudley Perkins (rapper)': 5.535882352941177, 'Playalitical': 5.671499999999999, 'Pooh-Man': 5.629682539682539, 'Problem (rapper)': 5.665098039215686, 'Psychosiz': 5.677826086956521, 'Punch (rapper)': 5.629740259740263, 'Schoolboy Q': 5.545102040816326, 'Quazedelic': 5.574504504504507, 'DJ Quik': 5.543913043478262, 'San Quinn': 5.364166666666667, 'Captain Rapp': 5.545714285714285, \"Rappin' 4-Tay\": 5.594999999999999, 'Ras Kass': 5.482238805970151, 'RBX': 5.672173913043477, 'Reason (American rapper)': 5.6657142857142855, 'Red Cloud (rapper)': 5.622000000000001, 'Redfoo': 5.896333333333332, 'RiceGum': 5.701549295774647, 'The Real Richie Rich': 5.663008849557521, 'Boots Riley': 5.549499999999998, 'Ash Riser': 5.645310344827587, 'RJ (rapper)': 5.60468085106383, 'Jay Rock': 5.663986928104578, 'V. Rose': 5.73625, 'Sadistik': 5.627826086956522, 'Sage the Gemini': 5.555168539325843, 'Saint Dog': 5.714444444444445, 'Saweetie': 5.586315789473683, 'Seagram (rapper)': 5.379047619047619, 'Amanda Seales': 5.766785714285715, 'Tupac Shakur': 5.595373134328359, 'Shade Sheist': 5.662727272727274, 'Mike Shinoda': 5.615964912280704, 'Too Short': 5.482419354838711, 'Shorty Mack': 5.576625, 'Shwayze': 5.426666666666666, 'Dom Sicily': 5.537857142857142, 'Raz Simone': 5.4948837209302335, 'Sir Mix-a-Lot': 5.613170731707318, 'Skee-Lo': 5.522282608695653, 'Skeme': 5.634814814814815, 'Skinhead Rob': 5.404782608695652, 'Alex Skolnick': 5.583499999999999, 'Sky Blu (rapper)': 5.872653061224492, 'Sleep (rapper)': 5.671666666666669, 'Sleep Dank': 5.524210526315789, 'Mitchy Slick': 5.441224489795918, 'Slimkid3': 5.604615384615384, 'Slip Capone': 5.622222222222223, 'Slow Pain': 5.500799999999999, 'Na-Kel Smith': 5.688749999999999, 'D Smoke': 5.769137931034483, 'Smooth (singer)': 5.7661538461538475, 'Snow Tha Product': 5.6286956521739135, 'Soopafly': 5.598333333333333, 'Sounwave': 5.7003636363636385, 'Speak!': 5.538596491228071, 'Spice 1': 5.79219512195122, 'Spider Loc': 5.4272, 'Vince Staples': 5.466451612903225, 'Parlay Starr': 5.753684210526316, 'Rob Stone (rapper)': 5.203157894736841, 'Suga Free': 5.831999999999999, 'Suga-T': 5.652571428571426, 'Earl Sweatshirt': 5.50914893617021, 'SwinDoe': 5.650980392156861, 'Syd (singer)': 5.680149253731344, 'Big Syke': 5.484680851063829, 'Ali Tabatabaee': 5.668666666666668, 'Taboo (rapper)': 5.804374999999999, 'Tairrie B': 5.609333333333334, 'Tanna Leone': 5.65661971830986, 'Tedashii': 5.558688524590163, 'TeeFlii': 5.691929824561403, 'Thurz': 5.526451612903227, 'Tiger JK': 5.582083333333332, 'Time (rapper)': 5.523404255319149, 'Ms. Toi': 5.664150943396227, 'Tone Loc': 5.51018181818182, 'Isaiah Toothtaker': 5.555499999999999, 'Channel Tres': 5.637307692307693, 'MC Trouble': 5.455813953488371, 'Ty Dolla Sign': 5.641369863013699, 'Tyler, the Creator': 5.848478260869566, 'The Unknown DJ': 5.369482758620689, 'V-Nasty': 5.719210526315789, 'Casey Veggies': 5.631451612903227, 'Bryce Vine': 5.6093827160493825, 'Warren G': 5.513400000000002, 'WC (rapper)': 5.469620253164558, \"Tim'm T. West\": 5.725104166666668, 'Willie B (producer)': 5.542835820895522, 'Dizzy Wright': 5.494285714285715, 'Xzibit': 5.909473684210527, 'Ya Boy': 5.646250000000001, 'Yeat': 5.677297297297296, 'YG (rapper)': 5.473561643835617, 'YGD Tha Top Dogg': 5.194142857142857, 'Yo-Yo (rapper)': 5.663636363636364, 'MC Yogi': 5.846896551724137, 'Young Chozen': 5.7164705882352935, 'Yukmouth': 5.461935483870968, 'Arif Zahir': 5.874736842105263, 'Zealous1': 5.412941176470589, 'Asaiah Ziv': 5.534074074074075}\n"
     ]
    }
   ],
   "source": [
    "def sentiment_rappers(rappers):\n",
    "    rappers_happiness = {}\n",
    "    for rapper in rappers:\n",
    "        with open(\"data/rappers_text/\"+rapper+'.txt') as f:\n",
    "            try:\n",
    "                rapper_text = f.readlines()[0]\n",
    "            except:\n",
    "                continue\n",
    "\n",
    "        rappers_happiness[rapper] = sentiment_score(rapper_text)\n",
    "\n",
    "    return rappers_happiness\n",
    "\n",
    "rappers_happiness = sentiment_rappers(rappers_names)"
   ]
  },
  {
   "cell_type": "code",
   "execution_count": 255,
   "metadata": {},
   "outputs": [
    {
     "data": {
      "image/png": "[encoded data removed]",
      "text/plain": [
       "<Figure size 640x480 with 1 Axes>"
      ]
     },
     "metadata": {},
     "output_type": "display_data"
    }
   ],
   "source": [
    "plt.hist(list(rappers_happiness.values()), bins=100, color='c', edgecolor='blue', alpha=0.65)\n",
    "plt.xlabel('Happiness Score')\n",
    "plt.ylabel('Frequency')\n",
    "plt.show()"
   ]
  },
  {
   "cell_type": "code",
   "execution_count": 256,
   "metadata": {},
   "outputs": [],
   "source": [
    "sorted_rappers_happiness = dict(sorted(rappers_happiness.items(), key=lambda x:x[1], reverse=True))"
   ]
  },
  {
   "cell_type": "code",
   "execution_count": 262,
   "metadata": {},
   "outputs": [
    {
     "name": "stdout",
     "output_type": "stream",
     "text": [
      "Top 10 most happy rappers is: \n",
      "1 ) Dave Free ( 5.986 )\n",
      "2 ) Rashad Smith (producer) ( 5.960 )\n",
      "3 ) Chanel West Coast ( 5.942 )\n",
      "4 ) Queen Latifah ( 5.935 )\n",
      "5 ) Cory Gunz ( 5.926 )\n",
      "6 ) Awkwafina ( 5.922 )\n",
      "7 ) Xzibit ( 5.909 )\n",
      "8 ) DJ Skee ( 5.905 )\n",
      "9 ) Redfoo ( 5.896 )\n",
      "10 ) DJ Disco Wiz ( 5.885 )\n",
      "\n",
      "\n",
      "Top 10 least happy rappers is: \n",
      "1 ) Cool C ( 5.062 )\n",
      "2 ) 6ix9ine ( 5.103 )\n",
      "3 ) Daz Dillinger ( 5.179 )\n",
      "4 ) Hussein Fatal ( 5.190 )\n",
      "5 ) YGD Tha Top Dogg ( 5.194 )\n",
      "6 ) Fred the Godson ( 5.195 )\n",
      "7 ) Rob Stone (rapper) ( 5.203 )\n",
      "8 ) Chinx ( 5.206 )\n",
      "9 ) Sheff G ( 5.255 )\n",
      "10 ) Conceit (rapper) ( 5.270 )\n"
     ]
    }
   ],
   "source": [
    "print(\"Top 10 most happy rappers is: \")\n",
    "for i in range(10):\n",
    "    print(i+1, \")\",list(sorted_rappers_happiness.keys())[i],\"(\", f'{list(sorted_rappers_happiness.values())[i]:.3f}', \")\")\n",
    "\n",
    "print(\"\\n\")\n",
    "print(\"Top 10 least happy rappers is: \")\n",
    "for i in range(10):\n",
    "    print(i+1, \")\",list(sorted_rappers_happiness.keys())[-i-1],\"(\", f'{list(sorted_rappers_happiness.values())[-i-1]:.3f}',\")\")"
   ]
  },
  {
   "cell_type": "code",
   "execution_count": 267,
   "metadata": {},
   "outputs": [
    {
     "name": "stdout",
     "output_type": "stream",
     "text": [
      "[5.102875536480688, 5.61232558139535, 5.64, 5.7173333333333325, 5.560888888888888, 5.532028571428574, 5.775609756097561, 5.716, 5.692, 5.623846153846153, 5.573907284768214, 5.494117647058822, 5.754814814814814, 5.5289743589743585, 5.475555555555554, 5.700430107526884, 5.432499999999998, 5.513913043478262, 5.685802469135803, 5.626, 5.513750000000003, 5.483043478260871, 5.7753913043478295, 5.7511199999999985, 5.713333333333334, 5.700833333333333, 5.506739130434782, 5.9224657534246585, 5.580833333333334, 5.704615384615384, 5.473333333333334, 5.789565217391306, 5.511588785046732, 5.6925, 5.530307692307692, 5.481186440677965, 5.7006349206349185, 5.630405405405406, 5.553131313131313, 5.673518518518521, 5.516623376623379, 5.431641791044778, 5.6295652173913036, 5.493333333333332, 5.655, 5.72390243902439, 5.576883116883118, 5.4125, 5.4924, 5.713333333333333, 5.418113207547171, 5.30057142857143, 5.639743589743589, 5.688999999999998, 5.626060606060607, 5.6581481481481495, 5.600952380952382, 5.506893203883496, 5.746764705882352, 5.622533333333335, 5.720322580645162, 5.48354430379747, 5.475662650602411, 5.829655172413792, 5.6358139534883716, 5.567586206896553, 5.64273062730627, 5.5254237288135615, 5.647692307692308, 5.565189873417725, 5.561666666666667, 5.391413043478261, 5.610769230769231, 5.628285714285714, 5.851111111111111, 5.742117647058824, 5.665531914893617, 5.383999999999999, 5.659999999999998, 5.4816071428571425, 5.598181818181819, 5.433636363636363, 5.666463878326996, 5.793684210526315, 5.447733333333336, 5.206153846153847, 5.708235294117646, 5.423478260869564, 5.57309090909091, 5.519615384615386, 5.654310344827587, 5.631666666666666, 5.439333333333333, 5.062307692307692, 5.484272727272727, 5.554736842105262, 5.58, 5.724761904761904, 5.526666666666666, 5.716046511627906, 5.560689655172414, 5.542857142857144, 5.571149425287357, 5.372820512820513, 5.678000000000002, 5.491578947368422, 5.465000000000001, 5.6674545454545475, 5.6641379310344835, 5.884999999999999, 5.417877094972068, 5.403410852713179, 5.782500000000001, 5.644615384615384, 5.4060000000000015, 5.70639175257732, 5.5127868852459025, 5.443035714285716, 5.785333333333333, 5.362222222222222, 5.581724137931035, 5.45875, 5.511555555555555, 5.670588235294118, 5.587796610169492, 5.523448275862068, 5.42923076923077, 5.541967213114756, 5.472105263157894, 5.505154639175259, 5.8759999999999994, 5.616116504854368, 5.734285714285713, 5.581739130434783, 5.190256410256409, 5.698181818181817, 5.510064935064934, 5.603999999999999, 5.545333333333332, 5.6680303030303065, 5.415, 5.483583333333334, 5.744347826086956, 5.574000000000001, 5.6025, 5.477540106951875, 5.19525, 5.55111111111111, 5.309622641509433, 5.68860465116279, 5.668085106382977, 5.656458333333333, 5.6412, 5.625454545454546, 5.752399999999999, 5.503586206896551, 5.563367346938775, 5.578000000000001, 5.467307692307693, 5.74351851851852, 5.625789473684213, 5.5200000000000005, 5.717000000000002, 5.925555555555555, 5.483544303797468, 5.693030303030304, 5.557333333333332, 5.445925925925926, 5.588857142857142, 5.561428571428572, 5.436153846153845, 5.810126582278482, 5.499069767441859, 5.443076923076922, 5.58232558139535, 5.510476190476194, 5.441454545454546, 5.76909090909091, 5.432631578947369, 5.54276923076923, 5.450461538461538, 5.709189189189189, 5.678255813953489, 5.426021505376345, 5.426874999999999, 5.789677419354839, 5.6865116279069765, 5.552608695652173, 5.657567567567568, 5.635145631067959, 5.5320833333333335, 5.549393939393944, 5.550560747663552, 5.637297297297296, 5.636691729323309, 5.58675, 5.573333333333333, 5.331272727272727, 5.588529411764708, 5.76972972972973, 5.5666896551724125, 5.710000000000001, 5.6897872340425515, 5.6000000000000005, 5.433559322033898, 5.632075471698114, 5.543902439024389, 5.602926829268293, 5.622187499999998, 5.451666666666667, 5.5931250000000015, 5.668750000000001, 5.43908256880734, 5.584078947368423, 5.409729729729732, 5.682758620689656, 5.396206896551725, 5.537021276595745, 5.455087719298247, 5.5634000000000015, 5.707916666666667, 5.856046511627906, 5.587857142857142, 5.623636363636363, 5.565504587155965, 5.866249999999999, 5.625970149253734, 5.755384615384614, 5.71675675675676, 5.539655172413794, 5.798823529411766, 5.627945205479452, 5.731052631578948, 5.421818181818181, 5.649615384615387, 5.629032258064516, 5.760000000000001, 5.769638554216867, 5.577816901408453, 5.615844155844156, 5.657934782608695, 5.370909090909091, 5.500686274509803, 5.47344827586207, 5.5435897435897425, 5.7988888888888885, 5.676551724137931, 5.595135135135135, 5.624912280701754, 5.84969696969697, 5.544622641509435, 5.407105263157896, 5.670399999999998, 5.616956521739131, 5.34, 5.516700000000001, 5.314285714285714, 5.6817391304347815, 5.569166666666666, 5.63125, 5.523125000000001, 5.811538461538461, 5.586052631578949, 5.722857142857143, 5.694782608695652, 5.3616504854368925, 5.53304347826087, 5.5625, 5.746024096385542, 5.8017391304347825, 5.553333333333333, 5.722439024390243, 5.758461538461538, 5.5183333333333335, 5.630531914893617, 5.7896551724137915, 5.4656716417910465, 5.642435897435898, 5.498181818181819, 5.696969696969697, 5.503035714285716, 5.693015873015874, 5.754600000000002, 5.541075268817206, 5.551111111111113, 5.575945945945946, 5.675833333333333, 5.72892857142857, 5.553450292397663, 5.627636363636363, 5.634166666666668, 5.557777777777777, 5.427272727272729, 5.6504918032786895, 5.600588235294119, 5.436065573770489, 5.499999999999999, 5.7808, 5.658983050847457, 5.422142857142859, 5.565365853658536, 5.416290322580645, 5.4875, 5.577619047619048, 5.766440677966102, 5.556067415730338, 5.606451612903225, 5.286615384615384, 5.579803439803442, 5.487000000000001, 5.583643410852716, 5.744000000000002, 5.325882352941178, 5.686060606060606, 5.6737931034482765, 5.583209876543211, 5.4887500000000005, 5.617961783439492, 5.366521739130435, 5.5878571428571435, 5.375882352941176, 5.554857142857141, 5.506868686868687, 5.47076923076923, 5.4480645161290315, 5.615454545454546, 5.590909090909092, 5.38, 5.608888888888887, 5.564324324324324, 5.7286111111111095, 5.651851851851852, 5.5794736842105275, 5.935294117647061, 5.777796610169494, 5.575000000000001, 5.372121212121213, 5.463092783505155, 5.881176470588236, 5.468, 5.338750000000001, 5.581739130434781, 5.708235294117646, 5.642608695652174, 5.505416666666668, 5.550000000000001, 5.542448979591837, 5.599368421052634, 5.68, 5.66111111111111, 5.524371859296483, 5.657142857142857, 5.590540540540542, 5.553731343283581, 5.531750000000001, 5.455813953488371, 5.626666666666667, 5.5774358974358975, 5.4657446808510635, 5.589387755102041, 5.478172043010756, 5.574583333333332, 5.476875, 5.532, 5.828444444444445, 5.686206896551725, 5.726666666666667, 5.601199999999999, 5.671818181818181, 5.842857142857143, 5.578571428571429, 5.255223880597017, 5.591967213114755, 5.473076923076923, 5.542739726027397, 5.5115094339622654, 5.552075471698114, 5.375625, 5.6602500000000004, 5.905454545454546, 5.8133333333333335, 5.554230769230767, 5.523539823008847, 5.96, 5.628799999999999, 5.61125, 5.697333333333333, 5.4448, 5.580555555555556, 5.631739130434783, 5.755151515151518, 5.6247058823529406, 5.491940298507462, 5.479833333333333, 5.435918367346939, 5.656470588235296, 5.741860465116279, 5.638636363636364, 5.47875, 5.599999999999999, 5.451372549019608, 5.747407407407406, 5.6904545454545445, 5.653493975903615, 5.787826086956523, 5.8132467532467516, 5.670886075949366, 5.519027027027029, 5.515238095238097, 5.596923076923077, 5.6657142857142855, 5.699714285714286, 5.635624999999999, 5.522608695652173, 5.4244776119403, 5.542195121951218, 5.489268292682927, 5.774871794871795, 5.685087719298247, 5.600000000000001, 5.656708860759494, 5.567857142857142, 5.667764705882353, 5.8664, 5.647083333333334, 5.47016393442623, 5.575593220338985, 5.540606060606063, 5.603295128939832, 5.684545454545455, 5.634807692307692, 5.863448275862067, 5.530499999999999, 5.690000000000001, 5.653333333333334, 5.5972413793103435, 5.404117647058823, 5.490495049504951, 5.503478260869565, 5.697924528301888, 5.760555555555555, 5.6, 5.6, 5.3374999999999995, 5.477333333333335]\n",
      "[5.441855670103092, 5.637931034482758, 5.739999999999999, 5.408139534883722, 5.684230769230769, 5.6075000000000035, 5.309375, 5.460000000000001, 5.613846153846155, 5.521395348837209, 5.651578947368423, 5.634054054054054, 5.814736842105263, 5.7235555555555555, 5.483404255319151, 5.612857142857143, 5.701333333333333, 5.400821917808221, 5.592727272727273, 5.4022162162162175, 5.61, 5.63268817204301, 5.72678260869565, 5.57875, 5.579199999999999, 5.594473684210526, 5.433333333333332, 5.595454545454545, 5.490869565217389, 5.85875, 5.64530303030303, 5.607857142857142, 5.531604938271606, 5.45, 5.65, 5.70987012987013, 5.539298245614036, 5.577307692307692, 5.589176470588235, 5.546341463414633, 5.588235294117647, 5.468354430379746, 5.591358024691359, 5.652352941176471, 5.4240650406504045, 5.855714285714285, 5.60625, 5.553387096774193, 5.78044943820225, 5.9421052631578934, 5.2700000000000005, 5.6300917431192685, 5.617142857142857, 5.456458333333335, 5.735555555555555, 5.456666666666667, 5.414444444444445, 5.530731707317074, 5.657468354430381, 5.605223880597017, 5.517241379310346, 5.49909090909091, 5.544736842105263, 5.3273809523809526, 5.492666666666667, 5.178571428571428, 5.498695652173913, 5.683055555555557, 5.445185185185183, 5.435652173913044, 5.327113402061857, 5.547692307692308, 5.522666666666666, 5.554693877551021, 5.556037735849059, 5.440980392156862, 5.495263157894733, 5.594732142857147, 5.65095238095238, 5.586249999999999, 5.634503816793897, 5.588421052631579, 5.527213114754101, 5.554505494505496, 5.6655263157894735, 5.627659574468086, 5.395, 5.493548387096773, 5.486190476190476, 5.674857142857143, 5.986307692307696, 5.7536231884058, 5.68860465116279, 5.559733333333334, 5.755294117647058, 5.471884057971016, 5.657297297297296, 5.556024096385543, 5.715591397849462, 5.541621621621622, 5.803750000000001, 5.6293181818181806, 5.53, 5.629818181818181, 5.682564102564101, 5.363061224489795, 5.476764705882352, 5.517288135593218, 5.584000000000001, 5.601999999999999, 5.687297297297297, 5.541333333333335, 5.611296296296296, 5.554166666666667, 5.311555555555556, 5.3469230769230744, 5.675744680851063, 5.749999999999999, 5.623146067415732, 5.536712328767123, 5.5037867647058825, 5.635425531914895, 5.639333333333334, 5.499999999999999, 5.578571428571428, 5.4575, 5.547058823529412, 5.686666666666663, 5.539090909090908, 5.649206349206346, 5.279726027397259, 5.601538461538462, 5.429117647058823, 5.484516129032257, 5.534074074074075, 5.668888888888888, 5.456756756756757, 5.62875, 5.731752577319585, 5.544675324675326, 5.6641463414634154, 5.68095238095238, 5.494999999999999, 5.708749999999998, 5.461261261261261, 5.717692307692307, 5.594545454545456, 5.573333333333332, 5.617959183673469, 5.709428571428571, 5.4066233766233776, 5.855319148936172, 5.430357142857142, 5.477659574468084, 5.462413793103449, 5.482903225806454, 5.49, 5.347999999999999, 5.462424242424244, 5.78875, 5.508541666666666, 5.483870967741934, 5.49267605633803, 5.608627450980393, 5.700512820512819, 5.323775510204082, 5.271515151515151, 5.589411764705882, 5.608297872340426, 5.712413793103449, 5.420606060606061, 5.519111111111112, 5.747999999999999, 5.512121212121213, 5.62, 5.537428571428572, 5.744262295081969, 5.4679166666666665, 5.566315789473684, 5.415555555555555, 5.665299999999999, 5.633846153846154, 5.586052631578949, 5.761739130434782, 5.5505555555555555, 5.506086956521742, 5.570000000000001, 5.588965517241379, 5.408571428571428, 5.664, 5.539137055837566, 5.792173913043477, 5.551111111111113, 5.319137931034484, 5.497333333333334, 5.512682926829267, 5.5743103448275875, 5.715714285714286, 5.4571875, 5.604230769230769, 5.721875, 5.5, 5.340689655172413, 5.7351515151515144, 5.342, 5.333064516129033, 5.462978723404255, 5.825454545454544, 5.389333333333334, 5.463555555555555, 5.444375, 5.586176470588232, 5.525952380952381, 5.627064676616916, 5.802089552238807, 5.570800000000002, 5.62967741935484, 5.50929577464789, 5.535882352941177, 5.671499999999999, 5.629682539682539, 5.665098039215686, 5.677826086956521, 5.629740259740263, 5.545102040816326, 5.574504504504507, 5.543913043478262, 5.364166666666667, 5.545714285714285, 5.594999999999999, 5.482238805970151, 5.672173913043477, 5.6657142857142855, 5.622000000000001, 5.896333333333332, 5.701549295774647, 5.663008849557521, 5.549499999999998, 5.645310344827587, 5.60468085106383, 5.663986928104578, 5.73625, 5.627826086956522, 5.555168539325843, 5.714444444444445, 5.586315789473683, 5.379047619047619, 5.766785714285715, 5.595373134328359, 5.662727272727274, 5.615964912280704, 5.482419354838711, 5.576625, 5.426666666666666, 5.537857142857142, 5.4948837209302335, 5.613170731707318, 5.522282608695653, 5.634814814814815, 5.404782608695652, 5.583499999999999, 5.872653061224492, 5.671666666666669, 5.524210526315789, 5.441224489795918, 5.604615384615384, 5.622222222222223, 5.500799999999999, 5.688749999999999, 5.769137931034483, 5.7661538461538475, 5.6286956521739135, 5.598333333333333, 5.7003636363636385, 5.538596491228071, 5.79219512195122, 5.4272, 5.466451612903225, 5.753684210526316, 5.203157894736841, 5.831999999999999, 5.652571428571426, 5.50914893617021, 5.650980392156861, 5.680149253731344, 5.484680851063829, 5.668666666666668, 5.804374999999999, 5.609333333333334, 5.65661971830986, 5.558688524590163, 5.691929824561403, 5.526451612903227, 5.582083333333332, 5.523404255319149, 5.664150943396227, 5.51018181818182, 5.555499999999999, 5.637307692307693, 5.455813953488371, 5.641369863013699, 5.848478260869566, 5.369482758620689, 5.719210526315789, 5.631451612903227, 5.6093827160493825, 5.513400000000002, 5.469620253164558, 5.725104166666668, 5.542835820895522, 5.494285714285715, 5.909473684210527, 5.646250000000001, 5.677297297297296, 5.473561643835617, 5.194142857142857, 5.663636363636364, 5.846896551724137, 5.7164705882352935, 5.461935483870968, 5.874736842105263, 5.412941176470589, 5.534074074074075]\n",
      "The mean happiness score for east coast rappers is:  5.589\n",
      "The mean happiness score for west coast rappers is:  5.579\n"
     ]
    }
   ],
   "source": [
    "EastHappiness = [rappers_happiness[name] for name in rappers[rappers['Coast'] == 'East']['WikipediaPageName'].tolist() if name in rappers_happiness.keys()]\n",
    "WestHappiness = [rappers_happiness[name] for name in rappers[rappers['Coast'] == 'West']['WikipediaPageName'].tolist() if name in rappers_happiness.keys()]\n",
    "\n",
    "avg_east = np.mean(EastHappiness)\n",
    "avg_west = np.mean(WestHappiness)\n",
    "\n",
    "print(EastHappiness)\n",
    "print(WestHappiness)\n",
    "\n",
    "print(\"The mean happiness score for east coast rappers is: \", f'{avg_east:.3f}')\n",
    "print(\"The mean happiness score for west coast rappers is: \", f'{avg_west:.3f}')"
   ]
  },
  {
   "cell_type": "code",
   "execution_count": 265,
   "metadata": {},
   "outputs": [
    {
     "name": "stdout",
     "output_type": "stream",
     "text": [
      "The percentage is:  83.7 %\n"
     ]
    }
   ],
   "source": [
    "coast = rappers['Coast'].tolist()\n",
    "# random shuffle\n",
    "\n",
    "count2 = 0\n",
    "n = 1000\n",
    "for i in range(n):\n",
    "    np.random.shuffle(coast)\n",
    "    rappers['Coast_r'] = coast\n",
    "    \n",
    "    EastNames_r = [name for name in rappers[rappers['Coast_r'] == 'East']['WikipediaPageName'].tolist() if name in rappers_happiness.keys()]\n",
    "    EastHappiness_r = [rappers_happiness[name] for name in EastNames_r]\n",
    "\n",
    "    avg_east_r = np.mean(EastHappiness_r)\n",
    "\n",
    "    if avg_east > avg_east_r:\n",
    "        count2 += 1\n",
    "\n",
    "print(\"The percentage is: \", count2/n*100, \"%\")"
   ]
  }
 ],
 "metadata": {
  "anaconda-cloud": {},
  "kernelspec": {
   "display_name": "Python 3 (ipykernel)",
   "language": "python",
   "name": "python3"
  },
  "language_info": {
   "codemirror_mode": {
    "name": "ipython",
    "version": 3
   },
   "file_extension": ".py",
   "mimetype": "text/x-python",
   "name": "python",
   "nbconvert_exporter": "python",
   "pygments_lexer": "ipython3",
   "version": "3.8.0"
  }
 },
 "nbformat": 4,
 "nbformat_minor": 1
}
