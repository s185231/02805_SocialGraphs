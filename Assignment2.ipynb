{
 "cells": [
  {
   "cell_type": "markdown",
   "metadata": {},
   "source": [
    "# Formalia:\n",
    "\n",
    "Please read the [assignment overview page](https://github.com/SocialComplexityLab/socialgraphs2021/wiki/Assignments) carefully before proceeding. This page contains information about formatting (including formats etc.), group sizes, and many other aspects of handing in the assignment. \n",
    "\n",
    "_If you fail to follow these simple instructions, it will negatively impact your grade!_\n",
    "\n",
    "**Due date and time**: The assignment is due on Tuesday October the 31st, 2021 at 23:55. Hand in your IPython notebook file (with extension `.ipynb`) via http://peergrade.io/\n",
    "\n",
    "\n",
    "(If you haven't set up an account on peergrade yet, go to www.peergrade.io/join and type in the class code: ***DPZEV6***.)"
   ]
  },
  {
   "cell_type": "markdown",
   "metadata": {},
   "source": [
    "### Overview\n",
    "\n",
    "This year's Assignment 2 is all about analyzing the network of rappers.\n",
    "\n",
    "Note that this time I'm doing the exercises slightly differently in order to clean things up a bit. The issue is that the weekly lectures/exercises include quite a few instructions and intermediate results that are not quite something you guys can meaningfully answer. \n",
    "\n",
    "Therefore, in the assignment below, I have tried to reformulate the questions from the weekly exercises into something that is (hopefully) easier to answer. *Then I also note which lectures each question comes from*; that way, you can easily go back and find additional tips & tricks on how to solve things 😇\n",
    "\n",
    "\n",
    "----"
   ]
  },
  {
   "cell_type": "code",
   "execution_count": 2,
   "metadata": {},
   "outputs": [],
   "source": [
    "import pandas as pd\n",
    "import numpy as np\n",
    "import matplotlib.pyplot as plt\n",
    "import networkx as nx\n",
    "from nltk.tokenize import word_tokenize\n",
    "import string"
   ]
  },
  {
   "cell_type": "markdown",
   "metadata": {},
   "source": [
    "# Part 0: Building the network \n",
    "\n",
    "To create our network, we downloaded the rapper Wiki pages from each coast (during Week 4) and linked them via the hyperlinks connecting pages to each other. To achieve this goal we have used regular expressions.\n",
    "\n",
    "> * Explain the strategy you have used to extract the hyperlinks from the Wiki-pages, assuming that you have already collected the rapper pages with the Wikipedia API.\n",
    "> * Show the regular expressions you have built and explain in details how they work."
   ]
  },
  {
   "cell_type": "markdown",
   "metadata": {},
   "source": [
    "To extract the Wiki links from the rapper pages loop over the wiki page of each rapper. Here the page of the current rapper is denoted ``` text ``` . In this we know to look for the pattern ```[[link]]``` or ```[[link | alias]]```. Therefore we have used a regular expression in the following way: \n",
    "\n",
    "```python\n",
    "pattern = r\"\\[\\[(.+?)\\]\\]\"\n",
    "links = re.findall(pattern, text)\n",
    "```\n",
    "\n",
    "Here the ``findall`` function ensures that all instances of matches are found. The pattern is defined as follows:\n",
    "\n",
    "* ``\\[\\[`` : The pattern starts with two square brackets\n",
    "* ```(.+?)``` : The pattern group (denoted with ``()``) continues with any character (```.```) between one and unlimited times (```+```). Finally the question mark ensures that the pattern is \"lazy\".\n",
    "* ```\\]\\]``` : The pattern ends with two square brackets\n",
    "\n",
    "Finally we add the following line to remove the alias from the links:\n",
    "    \n",
    "```python\n",
    "links = [link.split('|')[0] for link in links]\n",
    "```\n",
    "Hereby a list of links is created for this rapper."
   ]
  },
  {
   "cell_type": "markdown",
   "metadata": {},
   "source": [
    "# Part 1: Network visualization and basic stats\n",
    "\n",
    "Visualize your network of rappers (from lecture 5) and calculate stats (from lecture 4 and 5). For this exercise, we assume that you have already generated the network and extracted the largest weakly connected component (the \"largest weakly connected component\" of a directed network is the subgraph consisting of the nodes that would constitute the largest connected component if the network were undirected) . The visualization and statistics should be done for the largest weakly connected component only."
   ]
  },
  {
   "cell_type": "markdown",
   "metadata": {},
   "source": [
    "### Extract network"
   ]
  },
  {
   "cell_type": "code",
   "execution_count": 58,
   "metadata": {},
   "outputs": [],
   "source": [
    "# load the graph\n",
    "G = nx.read_gexf('data/rapper_network.gexf')\n",
    "\n",
    "# extract largest weakly connected component\n",
    "largest_cc = max(nx.weakly_connected_components(G), key=len)\n",
    "g = G.subgraph(largest_cc)"
   ]
  },
  {
   "cell_type": "markdown",
   "metadata": {},
   "source": [
    "_Exercise 1a_: Stats (see lecture 4 and 5 for more hints)\n",
    "\n",
    "> * What is the number of nodes in the network? \n",
    "> * What is the number of links?\n",
    "> * Who is the top connected rapper? (Report results for the in-degrees and out-degrees). Comment on your findings. Is this what you would have expected?\n",
    "> * Who are the top 5 most connected east-coast rappers (again in terms of in/out-degree)? \n",
    "> * Who are the top 5 most connected west-coast rappers (again in terms of in/out-degree)?\n",
    "> * Plot the in- and out-degree distributions for the whole network. \n",
    ">   * Use axes that make sense for visualizing this particular distribution.\n",
    ">   * What do you observe? \n",
    ">   * Give a pedagogical explaination of why the in-degree distribution is different from the out-degree distribution?\n",
    "> * Find the exponent (by using the `powerlaw` package) for the in- and out-degree distributions. What does it say about our network?\n",
    "> * Compare the two degree distributions two the degree distribution of a *random network* (undirected) with the same number of nodes and probability of connection *p*. Comment your results.\n",
    "\n"
   ]
  },
  {
   "cell_type": "code",
   "execution_count": 59,
   "metadata": {},
   "outputs": [
    {
     "name": "stdout",
     "output_type": "stream",
     "text": [
      "Number of nodes:  728\n",
      "Number of links:  5824\n"
     ]
    }
   ],
   "source": [
    "# print the number of nodes and edges\n",
    "print(\"Number of nodes: \", g.number_of_nodes())\n",
    "print(\"Number of links: \", g.number_of_edges())\n",
    "\n",
    "# There should be 728 and 5809"
   ]
  },
  {
   "cell_type": "code",
   "execution_count": 5,
   "metadata": {},
   "outputs": [
    {
     "name": "stdout",
     "output_type": "stream",
     "text": [
      "Highest in-degree: Snoop Dogg , 125\n",
      "Highest out-degree: Drag-On , 52\n"
     ]
    }
   ],
   "source": [
    "# find most connected rapper\n",
    "in_degree_dict = dict(g.in_degree(g.nodes()))\n",
    "out_degree_dict = dict(g.out_degree(g.nodes()))\n",
    "degree_dict = dict(g.degree(g.nodes()))\n",
    "\n",
    "# sort the dictionary by degree\n",
    "print(\"Highest in-degree:\", max(in_degree_dict, key=in_degree_dict.get), \",\", in_degree_dict[max(in_degree_dict, key=in_degree_dict.get)])\n",
    "print(\"Highest out-degree:\", max(out_degree_dict, key=out_degree_dict.get), \",\", out_degree_dict[max(out_degree_dict, key=out_degree_dict.get)])"
   ]
  },
  {
   "cell_type": "markdown",
   "metadata": {},
   "source": [
    "The rapper who is the most referenced by other rappers wikitext is Snoop Dog. Snoop Dog is a well known rapper with a large discography. On the other hand Drag-On has the most references to other rappers. Drag-On is not as well know....... "
   ]
  },
  {
   "cell_type": "code",
   "execution_count": 6,
   "metadata": {},
   "outputs": [],
   "source": [
    "# find most connected rappers from east and west coast\n",
    "central_nodes_in = sorted(g.in_degree, key=lambda x: x[1], reverse=True)\n",
    "central_nodes_out = sorted(g.out_degree, key=lambda x: x[1], reverse=True)\n",
    "\n",
    "central_nodes_in_east = []\n",
    "central_nodes_in_west = []\n",
    "central_nodes_out_east = []\n",
    "central_nodes_out_west = []\n",
    "\n",
    "for node in central_nodes_in:\n",
    "    if g.nodes[node[0]]['Coast'] == 'East':\n",
    "        central_nodes_in_east.append(node)\n",
    "    else:\n",
    "        central_nodes_in_west.append(node)\n",
    "\n",
    "for node in central_nodes_out:\n",
    "    if g.nodes[node[0]]['Coast'] == 'East':\n",
    "        central_nodes_out_east.append(node)\n",
    "    else:\n",
    "        central_nodes_out_west.append(node)"
   ]
  },
  {
   "cell_type": "code",
   "execution_count": 7,
   "metadata": {},
   "outputs": [
    {
     "name": "stdout",
     "output_type": "stream",
     "text": [
      "Top 5 highest in-degree east coast rappers:\n",
      "[('Jay-Z', 115), ('Nas', 98), ('50 Cent', 92), ('Busta Rhymes', 83), ('The Notorious B.I.G.', 63)]\n",
      "Top 5 highest out-degree east coast rappers:\n",
      "[('Drag-On', 52), ('Black Thought', 42), ('Jahlil Beats', 35), ('MC Lyte', 35), ('Uncle Murda', 34)]\n"
     ]
    }
   ],
   "source": [
    "# Most connected east coast rappers\n",
    "print(\"Top 5 highest in-degree east coast rappers:\" + \"\\n\" + str(central_nodes_in_east[:5]))\n",
    "print(\"Top 5 highest out-degree east coast rappers:\" + \"\\n\" + str(central_nodes_out_east[:5]))"
   ]
  },
  {
   "cell_type": "code",
   "execution_count": 8,
   "metadata": {},
   "outputs": [
    {
     "name": "stdout",
     "output_type": "stream",
     "text": [
      "Top 5 highest in-degree west coast rappers:\n",
      "[('Snoop Dogg', 125), ('Dr. Dre', 81), ('Kendrick Lamar', 75), ('Tupac Shakur', 70), ('E-40', 63)]\n",
      "Top 5 highest out-degree west coast rappers:\n",
      "[('DJ Dahi', 38), ('Kendrick Lamar', 37), ('Dr. Dre', 36), ('The Game (rapper)', 36), ('Kurupt', 35)]\n"
     ]
    }
   ],
   "source": [
    "# Most connected west coast rappers\n",
    "print(\"Top 5 highest in-degree west coast rappers:\" + \"\\n\" + str(central_nodes_in_west[:5]))\n",
    "print(\"Top 5 highest out-degree west coast rappers:\" + \"\\n\" + str(central_nodes_out_west[:5]))"
   ]
  },
  {
   "cell_type": "code",
   "execution_count": 9,
   "metadata": {},
   "outputs": [
    {
     "data": {
      "image/png": "[encoded data removed]",
      "text/plain": [
       "<Figure size 1000x500 with 2 Axes>"
      ]
     },
     "metadata": {},
     "output_type": "display_data"
    }
   ],
   "source": [
    "# plot distribution of in- and out-degrees\n",
    "\n",
    "plt.figure(figsize=(10, 5))\n",
    "plt.subplot(1, 2, 1)\n",
    "plt.hist(in_degree_dict.values(), bins = 50, color='c',edgecolor = 'blue')\n",
    "plt.title(\"In-degree distribution\")\n",
    "plt.xlabel(\"In-degree\")\n",
    "plt.ylabel(\"Frequency\")\n",
    "plt.subplot(1, 2, 2)\n",
    "plt.hist(out_degree_dict.values(), bins = 50, color='c', edgecolor='blue')\n",
    "plt.title(\"Out-degree distribution\")\n",
    "plt.xlabel(\"Out-degree\")\n",
    "plt.ylabel(\"Frequency\")\n",
    "plt.show()"
   ]
  },
  {
   "cell_type": "markdown",
   "metadata": {},
   "source": [
    "In the figure we can observe that the in-degree distribution is different from the out-degree distribution. It is noticiable that the in-degree reaches much higher values than the out-degree...."
   ]
  },
  {
   "cell_type": "code",
   "execution_count": 10,
   "metadata": {},
   "outputs": [
    {
     "name": "stdout",
     "output_type": "stream",
     "text": [
      "Calculating best minimal value for power law fit\n",
      "Calculating best minimal value for power law fit\n",
      "Calculating best minimal value for power law fit\n",
      "xmin progress: 98%\r"
     ]
    },
    {
     "name": "stderr",
     "output_type": "stream",
     "text": [
      "Values less than or equal to 0 in data. Throwing out 0 or negative values\n",
      "Values less than or equal to 0 in data. Throwing out 0 or negative values\n"
     ]
    }
   ],
   "source": [
    "import powerlaw\n",
    "\n",
    "in_degrees = []\n",
    "out_degrees = []\n",
    "total_degrees = []\n",
    "for node in g.nodes():\n",
    "    in_degrees.append(g.in_degree(node))\n",
    "    out_degrees.append(g.out_degree(node))\n",
    "    total_degrees.append(g.degree(node))\n",
    "\n",
    "a_in = powerlaw.Fit(in_degrees).alpha\n",
    "a_out = powerlaw.Fit(out_degrees).alpha\n",
    "a_total = powerlaw.Fit(total_degrees).alpha"
   ]
  },
  {
   "cell_type": "code",
   "execution_count": 11,
   "metadata": {},
   "outputs": [
    {
     "name": "stdout",
     "output_type": "stream",
     "text": [
      "Alpha in degree: 2.748154234601012\n",
      "Alpha out degree: 12.01614910109178\n",
      "Alpha total degree: 3.4475168232236384\n"
     ]
    }
   ],
   "source": [
    "print(\"Alpha in degree:\", a_in)\n",
    "print(\"Alpha out degree:\", a_out)\n",
    "print(\"Alpha total degree:\", a_total)"
   ]
  },
  {
   "cell_type": "code",
   "execution_count": 12,
   "metadata": {},
   "outputs": [
    {
     "name": "stdout",
     "output_type": "stream",
     "text": [
      "0.02200825309491059\n"
     ]
    },
    {
     "data": {
      "image/png": "[encoded data removed]",
      "text/plain": [
       "<Figure size 1000x500 with 2 Axes>"
      ]
     },
     "metadata": {},
     "output_type": "display_data"
    }
   ],
   "source": [
    "# create random graph with same number of nodes and p\n",
    "p = (g.number_of_edges()*2) / (g.number_of_nodes() * (g.number_of_nodes() - 1))\n",
    "print(p)\n",
    "random_graph = nx.erdos_renyi_graph(g.number_of_nodes(), p)\n",
    "\n",
    "# plot degree distribution of in and out degree\n",
    "degrees = [random_graph.degree(n) for n in random_graph.nodes()]\n",
    "\n",
    "# create subplots\n",
    "plt.figure(figsize=(10, 5))\n",
    "plt.subplot(1,2,1)\n",
    "plt.hist(degrees, bins=50, color='c', edgecolor='blue')\n",
    "plt.xlabel('degree')\n",
    "plt.ylabel('number of nodes')\n",
    "\n",
    "# plot in degree on loglog scale\n",
    "unique_degrees = np.unique(degrees)\n",
    "multiplicity_out = [degrees.count(i) for i in unique_degrees]\n",
    "\n",
    "plt.subplot(1,2,2)\n",
    "plt.plot(unique_degrees, multiplicity_out, 'o', color = 'blue')\n",
    "plt.xlabel('degree')\n",
    "plt.ylabel('Occurrences')\n",
    "\n",
    "plt.suptitle('Degree distribution')\n",
    "plt.show()\n"
   ]
  },
  {
   "cell_type": "markdown",
   "metadata": {},
   "source": [
    "_Exercise 1b_: Visualization (see lecture 5 for more hints)\n",
    "\n",
    "> * Create a nice visualization of the total (directed) network:\n",
    ">   * Color nodes according to the role;\n",
    ">   * Scale node-size according to degree;\n",
    ">   * Get node positions based on either the Force Atlas 2 algorithm, or the built-in algorithms for networkX;\n",
    ">   * Whatever else you feel like that would make the visualization nicer.\n",
    "> * Describe the structure you observe. What useful information can you decipher from this?"
   ]
  },
  {
   "cell_type": "markdown",
   "metadata": {},
   "source": [
    "# Part 2: Word-clouds\n",
    "\n",
    "Create your own version of the word-clouds (from lecture 7). For this exercise we assume you know how to download and clean text from rappers' Wikipedia pages.\n",
    "\n",
    "Here's what you need to do:\n",
    "> * Create a word-cloud for each coast according to the novel TF-TR method. Feel free to make it as fancy as you like. Explain your process and comment on your results.\n",
    "> * For each coast, what are the 5 words with the highest TR scores? Comment on your result."
   ]
  },
  {
   "cell_type": "markdown",
   "metadata": {},
   "source": [
    "# Part 3: Communities\n",
    "\n",
    "Find communities and their modularity (from lecture 7).\n",
    "\n",
    "Here's what you need to do:\n",
    "> * In your own words, explain what the measure \"modularity\" is, and the intuition behind the formula you use to compute it. \n",
    "> * Find communities in the network, and explain how you chose to identify the communities: Which algorithm did you use and how does it work?\n",
    "> * Comment on your results:\n",
    ">   * How many communities did you find in total?\n",
    ">   * Compute the value of modularity with the partition created by the algorithm.\n",
    ">   * Plot and/or print the distribution of community sizes (whichever makes most sense). Comment on your result.\n",
    "> * Now, partition your rappers into two communities based on which coast they represent.\n",
    ">   * What is the modularity of this partition? Comment on the result."
   ]
  },
  {
   "cell_type": "markdown",
   "metadata": {},
   "source": [
    "# Part 4: Sentiment of communities\n",
    "\n",
    "Analyze the sentiment of communities (lecture 8). More tips & tricks can be found, if you take a look at Lecture 8's exercises.\n",
    "\n",
    "A couple of additional instructions you will need below:\n",
    "* Average the average sentiment of the nodes in each community to find a community-level sentiment.\n",
    "\n",
    "Here's what you need to do (use the LabMT wordlist approach):\n",
    "> * Calculate and store sentiment for every rapper\n",
    "> * Create a histogram of all rappers' associated sentiments.\n",
    "> * What are the 10 rappers with happiest and saddest pages?\n",
    "\n",
    "Now, compute the sentiment of each coast: \n",
    "> * Which is the happiest and which is saddest coast according to the LabMT wordlist approach? (Take the coast's sentiment to be the average sentiment of the coast's rappers' pages (disregarding any rappers with sentiment 0).\n",
    "> * Use the \"label shuffling test\" (Week 5 and 8) to test if the coast with the highest wikipedia page sentiment has a page sentiment that is significantly higher (5% confidence bound) than a randomly selected group of rappers of the same size.\n",
    "> * Does the result make sense to you? Elaborate.\n",
    "\n",
    "**Congratulations for making it to the end of the Assignment. Good luck with your independent project**\n",
    "\n"
   ]
  },
  {
   "cell_type": "code",
   "execution_count": 13,
   "metadata": {},
   "outputs": [],
   "source": [
    "# load txt\n",
    "labmt = pd.read_csv(\"data/LabMT.txt\", sep='\\t')\n",
    "\n",
    "# load rappers\n",
    "rappers = pd.read_csv(\"data/Rappers.csv\", sep=',')\n",
    "rappers_names = list(rappers['WikipediaPageName'])"
   ]
  },
  {
   "cell_type": "code",
   "execution_count": 14,
   "metadata": {},
   "outputs": [],
   "source": [
    "def sentiment_score(text):\n",
    "    text = word_tokenize(text)\n",
    "    word_freq = {}\n",
    "    word_val = {}\n",
    "\n",
    "    for word in text:\n",
    "        word = word.lower()\n",
    "        if word not in string.punctuation and word in list(labmt['word']):\n",
    "            if word not in word_val:\n",
    "                word_freq[word] = 1\n",
    "                word_val[word] = labmt['happiness_average'].loc[labmt['word'] == word].values[0]\n",
    "            else:\n",
    "                word_freq[word] += 1\n",
    "\n",
    "    nom = sum([list(word_val.values())[i]*list(word_freq.values())[i] for i in range(len(list(word_freq.values())))])\n",
    "    denom = sum(list(word_freq.values()))\n",
    "    v_text = nom/denom\n",
    "\n",
    "    return v_text"
   ]
  },
  {
   "cell_type": "code",
   "execution_count": 15,
   "metadata": {},
   "outputs": [
    {
     "name": "stdout",
     "output_type": "stream",
     "text": [
      "6.533333333333334\n"
     ]
    }
   ],
   "source": [
    "print(sentiment_score(\"I am happy\"))"
   ]
  },
  {
   "cell_type": "code",
   "execution_count": 16,
   "metadata": {},
   "outputs": [],
   "source": [
    "test_dict = dict()\n",
    "\n",
    "test_dict['test'] = 1"
   ]
  },
  {
   "cell_type": "code",
   "execution_count": 17,
   "metadata": {},
   "outputs": [],
   "source": [
    "def rappers_happiness(rappers):\n",
    "    rappers_happiness = {}\n",
    "    for rapper in rappers:\n",
    "\n",
    "        with open(\"data/rappers_text/\"+rapper+'.txt') as f:\n",
    "            try:\n",
    "                rapper_text = f.readlines()\n",
    "                rapper_text = rapper_text[0]\n",
    "            except:\n",
    "                continue\n",
    "    \n",
    "        rappers_happiness[rapper] = sentiment_score(rapper_text)\n",
    "\n",
    "    return rappers_happiness\n",
    "\n",
    "rappers_happiness = rappers_happiness(rappers_names)"
   ]
  },
  {
   "cell_type": "code",
   "execution_count": 19,
   "metadata": {},
   "outputs": [
    {
     "data": {
      "image/png": "[encoded data removed]",
      "text/plain": [
       "<Figure size 640x480 with 1 Axes>"
      ]
     },
     "metadata": {},
     "output_type": "display_data"
    }
   ],
   "source": [
    "plt.hist(list(rappers_happiness.values()), bins=100, color='c', edgecolor='k', alpha=0.65)\n",
    "plt.xlabel('Happiness Score')\n",
    "plt.ylabel('Number of Rappers')\n",
    "plt.show()"
   ]
  },
  {
   "cell_type": "code",
   "execution_count": 18,
   "metadata": {},
   "outputs": [],
   "source": [
    "sorted_rappers_happiness = dict(sorted(rappers_happiness.items(), key=lambda x:x[1], reverse=True))"
   ]
  },
  {
   "cell_type": "code",
   "execution_count": 20,
   "metadata": {},
   "outputs": [
    {
     "name": "stdout",
     "output_type": "stream",
     "text": [
      "Top 10 most happy rappers is: \n",
      "1 ) Dave Free ( 5.99 )\n",
      "2 ) Rashad Smith (producer) ( 5.96 )\n",
      "3 ) Chanel West Coast ( 5.94 )\n",
      "4 ) Queen Latifah ( 5.94 )\n",
      "5 ) Cory Gunz ( 5.93 )\n",
      "6 ) Xzibit ( 5.91 )\n",
      "7 ) Awkwafina ( 5.91 )\n",
      "8 ) DJ Skee ( 5.91 )\n",
      "9 ) Redfoo ( 5.90 )\n",
      "10 ) DJ Disco Wiz ( 5.88 )\n",
      "\n",
      "\n",
      "Top 10 least happy rappers is: \n",
      "1 ) Cool C ( 5.09 )\n",
      "2 ) 6ix9ine ( 5.10 )\n",
      "3 ) Daz Dillinger ( 5.18 )\n",
      "4 ) Hussein Fatal ( 5.19 )\n",
      "5 ) YGD Tha Top Dogg ( 5.19 )\n",
      "6 ) Fred the Godson ( 5.20 )\n",
      "7 ) Chinx ( 5.20 )\n",
      "8 ) Rob Stone (rapper) ( 5.20 )\n",
      "9 ) Sheff G ( 5.26 )\n",
      "10 ) Conceit (rapper) ( 5.27 )\n"
     ]
    }
   ],
   "source": [
    "print(\"Top 10 most happy rappers is: \")\n",
    "for i in range(10):\n",
    "    print(i+1, \")\",list(sorted_rappers_happiness.keys())[i],\"(\", f'{list(sorted_rappers_happiness.values())[i]:.2f}', \")\")\n",
    "\n",
    "print(\"\\n\")\n",
    "print(\"Top 10 least happy rappers is: \")\n",
    "for i in range(10):\n",
    "    print(i+1, \")\",list(sorted_rappers_happiness.keys())[-i-1],\"(\", f'{list(sorted_rappers_happiness.values())[-i-1]:.2f}',\")\")"
   ]
  },
  {
   "cell_type": "code",
   "execution_count": 21,
   "metadata": {},
   "outputs": [
    {
     "name": "stdout",
     "output_type": "stream",
     "text": [
      "The mean happiness score for east coast rappers is:  5.59\n",
      "The mean happiness score for west coast rappers is:  5.58\n"
     ]
    }
   ],
   "source": [
    "EastNames = [name for name in rappers[rappers['Coast'] == 'East']['WikipediaPageName'].tolist() if name in rappers_happiness.keys()]\n",
    "WestNames = [name for name in rappers[rappers['Coast'] == 'West']['WikipediaPageName'].tolist() if name in rappers_happiness.keys()]\n",
    "\n",
    "EastHappiness = [rappers_happiness[name] for name in EastNames]\n",
    "WestHappiness = [rappers_happiness[name] for name in WestNames]\n",
    "\n",
    "avg_east = np.mean(EastHappiness)\n",
    "avg_west = np.mean(WestHappiness)\n",
    "\n",
    "print(\"The mean happiness score for east coast rappers is: \", f'{avg_east:.2f}')\n",
    "print(\"The mean happiness score for west coast rappers is: \", f'{avg_west:.2f}')"
   ]
  },
  {
   "cell_type": "code",
   "execution_count": 22,
   "metadata": {},
   "outputs": [
    {
     "name": "stdout",
     "output_type": "stream",
     "text": [
      "The percentage is:  87.8 %\n"
     ]
    }
   ],
   "source": [
    "coast = rappers['Coast'].tolist()\n",
    "# random shuffle\n",
    "\n",
    "count2 = 0\n",
    "n = 1000\n",
    "for i in range(n):\n",
    "    np.random.shuffle(coast)\n",
    "    rappers['Coast_r'] = coast\n",
    "    \n",
    "    WestNames_r = [name for name in rappers[rappers['Coast_r'] == 'West']['WikipediaPageName'].tolist() if name in rappers_happiness.keys()]\n",
    "    WestHappiness_r = [rappers_happiness[name] for name in WestNames_r]\n",
    "\n",
    "    avg_west_r = np.mean(WestHappiness_r)\n",
    "\n",
    "    if avg_west_r > avg_west:\n",
    "        count2 += 1\n",
    "\n",
    "print(\"The percentage is: \", count2/n*100, \"%\")"
   ]
  }
 ],
 "metadata": {
  "anaconda-cloud": {},
  "kernelspec": {
   "display_name": "Python 3 (ipykernel)",
   "language": "python",
   "name": "python3"
  },
  "language_info": {
   "codemirror_mode": {
    "name": "ipython",
    "version": 3
   },
   "file_extension": ".py",
   "mimetype": "text/x-python",
   "name": "python",
   "nbconvert_exporter": "python",
   "pygments_lexer": "ipython3",
   "version": "3.8.0"
  }
 },
 "nbformat": 4,
 "nbformat_minor": 1
}
